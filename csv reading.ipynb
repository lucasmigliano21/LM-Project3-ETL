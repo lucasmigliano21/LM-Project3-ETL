{
 "cells": [
  {
   "cell_type": "code",
   "execution_count": null,
   "id": "3eec0cac",
   "metadata": {},
   "outputs": [],
   "source": [
    "from src import functions as fn\n",
    "import pandas as pd"
   ]
  },
  {
   "cell_type": "code",
   "execution_count": null,
   "id": "cf6f7dce",
   "metadata": {},
   "outputs": [],
   "source": [
    "results=pd.read_csv('./data/results_teams.csv')"
   ]
  },
  {
   "cell_type": "code",
   "execution_count": null,
   "id": "2a5fae7d",
   "metadata": {},
   "outputs": [],
   "source": [
    "fn.column_cleaning(results)"
   ]
  },
  {
   "cell_type": "code",
   "execution_count": null,
   "id": "d54cd0d4",
   "metadata": {},
   "outputs": [],
   "source": [
    "results = fn.filter(results)"
   ]
  },
  {
   "cell_type": "code",
   "execution_count": null,
   "id": "4c210849",
   "metadata": {},
   "outputs": [],
   "source": [
    "results = fn.winner(results)"
   ]
  },
  {
   "cell_type": "code",
   "execution_count": null,
   "id": "9dc76618",
   "metadata": {},
   "outputs": [],
   "source": [
    "results_csv=fn.copy(results)"
   ]
  },
  {
   "cell_type": "code",
   "execution_count": null,
   "id": "a7cf72fa",
   "metadata": {},
   "outputs": [],
   "source": [
    "results_csv.to_csv('./data/results.csv', index=False)"
   ]
  }
 ],
 "metadata": {
  "kernelspec": {
   "display_name": "Python 3 (ipykernel)",
   "language": "python",
   "name": "python3"
  },
  "language_info": {
   "codemirror_mode": {
    "name": "ipython",
    "version": 3
   },
   "file_extension": ".py",
   "mimetype": "text/x-python",
   "name": "python",
   "nbconvert_exporter": "python",
   "pygments_lexer": "ipython3",
   "version": "3.9.7"
  }
 },
 "nbformat": 4,
 "nbformat_minor": 5
}
