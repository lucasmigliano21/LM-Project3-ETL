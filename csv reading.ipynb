{
 "cells": [
  {
   "cell_type": "code",
   "execution_count": 1,
   "id": "9f5989db",
   "metadata": {},
   "outputs": [],
   "source": [
    "from src import functions as fn\n",
    "import pandas as pd"
   ]
  },
  {
   "cell_type": "code",
   "execution_count": 2,
   "id": "09edde53",
   "metadata": {},
   "outputs": [],
   "source": [
    "results=pd.read_csv('./data/results_teams.csv')"
   ]
  },
  {
   "cell_type": "code",
   "execution_count": 3,
   "id": "984d494d",
   "metadata": {},
   "outputs": [],
   "source": [
    "fn.column_cleaning(results)"
   ]
  },
  {
   "cell_type": "code",
   "execution_count": 4,
   "id": "1f7281ff",
   "metadata": {},
   "outputs": [],
   "source": [
    "results = fn.filter(results)"
   ]
  },
  {
   "cell_type": "code",
   "execution_count": 5,
   "id": "26860a1b",
   "metadata": {},
   "outputs": [],
   "source": [
    "results = fn.winner(results)"
   ]
  },
  {
   "cell_type": "code",
   "execution_count": 6,
   "id": "0f9a05d2",
   "metadata": {},
   "outputs": [],
   "source": [
    "results_csv=fn.copy(results)"
   ]
  },
  {
   "cell_type": "code",
   "execution_count": 7,
   "id": "b4249325",
   "metadata": {},
   "outputs": [
    {
     "data": {
      "text/html": [
       "<div>\n",
       "<style scoped>\n",
       "    .dataframe tbody tr th:only-of-type {\n",
       "        vertical-align: middle;\n",
       "    }\n",
       "\n",
       "    .dataframe tbody tr th {\n",
       "        vertical-align: top;\n",
       "    }\n",
       "\n",
       "    .dataframe thead th {\n",
       "        text-align: right;\n",
       "    }\n",
       "</style>\n",
       "<table border=\"1\" class=\"dataframe\">\n",
       "  <thead>\n",
       "    <tr style=\"text-align: right;\">\n",
       "      <th></th>\n",
       "      <th>year</th>\n",
       "      <th>winner</th>\n",
       "    </tr>\n",
       "  </thead>\n",
       "  <tbody>\n",
       "    <tr>\n",
       "      <th>0</th>\n",
       "      <td>2002</td>\n",
       "      <td>Norway</td>\n",
       "    </tr>\n",
       "    <tr>\n",
       "      <th>1</th>\n",
       "      <td>2002</td>\n",
       "      <td>China PR</td>\n",
       "    </tr>\n",
       "    <tr>\n",
       "      <th>2</th>\n",
       "      <td>2002</td>\n",
       "      <td>draw</td>\n",
       "    </tr>\n",
       "    <tr>\n",
       "      <th>3</th>\n",
       "      <td>2002</td>\n",
       "      <td>Norway</td>\n",
       "    </tr>\n",
       "    <tr>\n",
       "      <th>4</th>\n",
       "      <td>2002</td>\n",
       "      <td>Germany</td>\n",
       "    </tr>\n",
       "    <tr>\n",
       "      <th>...</th>\n",
       "      <td>...</td>\n",
       "      <td>...</td>\n",
       "    </tr>\n",
       "    <tr>\n",
       "      <th>2942</th>\n",
       "      <td>2022</td>\n",
       "      <td>France</td>\n",
       "    </tr>\n",
       "    <tr>\n",
       "      <th>2943</th>\n",
       "      <td>2022</td>\n",
       "      <td>draw</td>\n",
       "    </tr>\n",
       "    <tr>\n",
       "      <th>2944</th>\n",
       "      <td>2022</td>\n",
       "      <td>United States</td>\n",
       "    </tr>\n",
       "    <tr>\n",
       "      <th>2945</th>\n",
       "      <td>2022</td>\n",
       "      <td>draw</td>\n",
       "    </tr>\n",
       "    <tr>\n",
       "      <th>2946</th>\n",
       "      <td>2022</td>\n",
       "      <td>Norway</td>\n",
       "    </tr>\n",
       "  </tbody>\n",
       "</table>\n",
       "<p>2947 rows × 2 columns</p>\n",
       "</div>"
      ],
      "text/plain": [
       "      year         winner\n",
       "0     2002         Norway\n",
       "1     2002       China PR\n",
       "2     2002           draw\n",
       "3     2002         Norway\n",
       "4     2002        Germany\n",
       "...    ...            ...\n",
       "2942  2022         France\n",
       "2943  2022           draw\n",
       "2944  2022  United States\n",
       "2945  2022           draw\n",
       "2946  2022         Norway\n",
       "\n",
       "[2947 rows x 2 columns]"
      ]
     },
     "execution_count": 7,
     "metadata": {},
     "output_type": "execute_result"
    }
   ],
   "source": [
    "results_csv"
   ]
  },
  {
   "cell_type": "code",
   "execution_count": 8,
   "id": "b2925033",
   "metadata": {},
   "outputs": [],
   "source": [
    "results.to_csv('./data/results.csv', index=False)"
   ]
  }
 ],
 "metadata": {
  "kernelspec": {
   "display_name": "Python 3 (ipykernel)",
   "language": "python",
   "name": "python3"
  },
  "language_info": {
   "codemirror_mode": {
    "name": "ipython",
    "version": 3
   },
   "file_extension": ".py",
   "mimetype": "text/x-python",
   "name": "python",
   "nbconvert_exporter": "python",
   "pygments_lexer": "ipython3",
   "version": "3.9.7"
  }
 },
 "nbformat": 4,
 "nbformat_minor": 5
}
