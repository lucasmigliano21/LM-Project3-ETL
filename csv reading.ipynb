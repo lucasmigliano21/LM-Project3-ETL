{
 "cells": [
  {
   "cell_type": "code",
   "execution_count": 1,
   "id": "ab33beca",
   "metadata": {},
   "outputs": [],
   "source": [
    "from src import functions as fn\n",
    "import pandas as pd"
   ]
  },
  {
   "cell_type": "code",
   "execution_count": 2,
   "id": "0395c904",
   "metadata": {},
   "outputs": [],
   "source": [
    "results=pd.read_csv('./data/results.csv')"
   ]
  },
  {
   "cell_type": "code",
   "execution_count": 3,
   "id": "6b6b33f5",
   "metadata": {},
   "outputs": [],
   "source": [
    "fn.column_cleaning(results)"
   ]
  },
  {
   "cell_type": "code",
   "execution_count": 4,
   "id": "1a23b872",
   "metadata": {},
   "outputs": [],
   "source": [
    "results=fn.filter(results)"
   ]
  },
  {
   "cell_type": "code",
   "execution_count": 5,
   "id": "cea9ba2e",
   "metadata": {},
   "outputs": [],
   "source": [
    "results=fn.winner(results)"
   ]
  },
  {
   "cell_type": "code",
   "execution_count": 6,
   "id": "d5bcab02",
   "metadata": {},
   "outputs": [],
   "source": [
    "results_csv=fn.copy(results)"
   ]
  },
  {
   "cell_type": "code",
   "execution_count": 7,
   "id": "83ee05bc",
   "metadata": {},
   "outputs": [
    {
     "data": {
      "text/html": [
       "<div>\n",
       "<style scoped>\n",
       "    .dataframe tbody tr th:only-of-type {\n",
       "        vertical-align: middle;\n",
       "    }\n",
       "\n",
       "    .dataframe tbody tr th {\n",
       "        vertical-align: top;\n",
       "    }\n",
       "\n",
       "    .dataframe thead th {\n",
       "        text-align: right;\n",
       "    }\n",
       "</style>\n",
       "<table border=\"1\" class=\"dataframe\">\n",
       "  <thead>\n",
       "    <tr style=\"text-align: right;\">\n",
       "      <th></th>\n",
       "      <th>year</th>\n",
       "      <th>winner</th>\n",
       "    </tr>\n",
       "  </thead>\n",
       "  <tbody>\n",
       "    <tr>\n",
       "      <th>0</th>\n",
       "      <td>2000</td>\n",
       "      <td>Turkey</td>\n",
       "    </tr>\n",
       "    <tr>\n",
       "      <th>1</th>\n",
       "      <td>2000</td>\n",
       "      <td>England</td>\n",
       "    </tr>\n",
       "    <tr>\n",
       "      <th>2</th>\n",
       "      <td>2000</td>\n",
       "      <td>Greece</td>\n",
       "    </tr>\n",
       "    <tr>\n",
       "      <th>3</th>\n",
       "      <td>2000</td>\n",
       "      <td>Norway</td>\n",
       "    </tr>\n",
       "    <tr>\n",
       "      <th>4</th>\n",
       "      <td>2000</td>\n",
       "      <td>United States</td>\n",
       "    </tr>\n",
       "    <tr>\n",
       "      <th>...</th>\n",
       "      <td>...</td>\n",
       "      <td>...</td>\n",
       "    </tr>\n",
       "    <tr>\n",
       "      <th>3148</th>\n",
       "      <td>2022</td>\n",
       "      <td>France</td>\n",
       "    </tr>\n",
       "    <tr>\n",
       "      <th>3149</th>\n",
       "      <td>2022</td>\n",
       "      <td>draw</td>\n",
       "    </tr>\n",
       "    <tr>\n",
       "      <th>3150</th>\n",
       "      <td>2022</td>\n",
       "      <td>United States</td>\n",
       "    </tr>\n",
       "    <tr>\n",
       "      <th>3151</th>\n",
       "      <td>2022</td>\n",
       "      <td>draw</td>\n",
       "    </tr>\n",
       "    <tr>\n",
       "      <th>3152</th>\n",
       "      <td>2022</td>\n",
       "      <td>Norway</td>\n",
       "    </tr>\n",
       "  </tbody>\n",
       "</table>\n",
       "<p>3153 rows × 2 columns</p>\n",
       "</div>"
      ],
      "text/plain": [
       "      year         winner\n",
       "0     2000         Turkey\n",
       "1     2000        England\n",
       "2     2000         Greece\n",
       "3     2000         Norway\n",
       "4     2000  United States\n",
       "...    ...            ...\n",
       "3148  2022         France\n",
       "3149  2022           draw\n",
       "3150  2022  United States\n",
       "3151  2022           draw\n",
       "3152  2022         Norway\n",
       "\n",
       "[3153 rows x 2 columns]"
      ]
     },
     "execution_count": 7,
     "metadata": {},
     "output_type": "execute_result"
    }
   ],
   "source": [
    "results_csv"
   ]
  },
  {
   "cell_type": "code",
   "execution_count": null,
   "id": "ec7a59a0",
   "metadata": {},
   "outputs": [],
   "source": []
  }
 ],
 "metadata": {
  "kernelspec": {
   "display_name": "Python 3 (ipykernel)",
   "language": "python",
   "name": "python3"
  },
  "language_info": {
   "codemirror_mode": {
    "name": "ipython",
    "version": 3
   },
   "file_extension": ".py",
   "mimetype": "text/x-python",
   "name": "python",
   "nbconvert_exporter": "python",
   "pygments_lexer": "ipython3",
   "version": "3.9.7"
  }
 },
 "nbformat": 4,
 "nbformat_minor": 5
}
