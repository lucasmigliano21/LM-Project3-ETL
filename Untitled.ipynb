{
 "cells": [
  {
   "cell_type": "code",
   "execution_count": 3,
   "id": "cef01c2c",
   "metadata": {},
   "outputs": [],
   "source": [
    "def ganar(x):\n",
    "    ''' Esta función compara los goles hechos por cada equipo y devuelve el resultado '''\n",
    "   \n",
    "    if x>0:\n",
    "        return 'home'\n",
    "    \n",
    "    elif x<0:\n",
    "        return 'away'\n",
    "    \n",
    "    else:\n",
    "        return 'draw'"
   ]
  },
  {
   "cell_type": "code",
   "execution_count": 30,
   "id": "a46ce857",
   "metadata": {},
   "outputs": [],
   "source": [
    "won = (lambda x : x['home_team'] if x['home_score'] > x['away_score'] \n",
    "                                              else (x['away_team'] if x['home_score'] < x['away_score'] else 'draw'))"
   ]
  },
  {
   "cell_type": "code",
   "execution_count": null,
   "id": "4d36e8ff",
   "metadata": {},
   "outputs": [],
   "source": [
    "lambda x : 1 if x['winner'] == 'draw'\n",
    "                                              else 3"
   ]
  },
  {
   "cell_type": "code",
   "execution_count": 31,
   "id": "8b11d5a0",
   "metadata": {},
   "outputs": [],
   "source": [
    "def ganador(x):\n",
    "    ''' Esta función compara los resultados y devuelve el puntaje '''\n",
    "   \n",
    "    if x==1:\n",
    "        return 'draw'\n",
    " \n",
    "    else:\n",
    "        return 3"
   ]
  },
  {
   "cell_type": "code",
   "execution_count": null,
   "id": "b6b9c03a",
   "metadata": {},
   "outputs": [],
   "source": []
  }
 ],
 "metadata": {
  "kernelspec": {
   "display_name": "Python 3 (ipykernel)",
   "language": "python",
   "name": "python3"
  },
  "language_info": {
   "codemirror_mode": {
    "name": "ipython",
    "version": 3
   },
   "file_extension": ".py",
   "mimetype": "text/x-python",
   "name": "python",
   "nbconvert_exporter": "python",
   "pygments_lexer": "ipython3",
   "version": "3.9.7"
  }
 },
 "nbformat": 4,
 "nbformat_minor": 5
}
