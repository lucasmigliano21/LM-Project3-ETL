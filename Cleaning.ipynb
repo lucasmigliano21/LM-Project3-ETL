{
 "cells": [
  {
   "cell_type": "markdown",
   "id": "6624109e",
   "metadata": {},
   "source": [
    "# CSV - DATASET"
   ]
  },
  {
   "cell_type": "code",
   "execution_count": 1,
   "id": "d9084b63",
   "metadata": {},
   "outputs": [],
   "source": [
    "import pandas as pd \n",
    "pd.set_option('display.max_columns', None)\n",
    "import warnings\n",
    "warnings.simplefilter('ignore')"
   ]
  },
  {
   "cell_type": "code",
   "execution_count": 2,
   "id": "b49cdd53",
   "metadata": {},
   "outputs": [],
   "source": [
    "df=pd.read_csv('./data/results.csv')"
   ]
  },
  {
   "cell_type": "code",
   "execution_count": 3,
   "id": "f10f7cf7",
   "metadata": {},
   "outputs": [
    {
     "data": {
      "text/html": [
       "<div>\n",
       "<style scoped>\n",
       "    .dataframe tbody tr th:only-of-type {\n",
       "        vertical-align: middle;\n",
       "    }\n",
       "\n",
       "    .dataframe tbody tr th {\n",
       "        vertical-align: top;\n",
       "    }\n",
       "\n",
       "    .dataframe thead th {\n",
       "        text-align: right;\n",
       "    }\n",
       "</style>\n",
       "<table border=\"1\" class=\"dataframe\">\n",
       "  <thead>\n",
       "    <tr style=\"text-align: right;\">\n",
       "      <th></th>\n",
       "      <th>date</th>\n",
       "      <th>home_team</th>\n",
       "      <th>away_team</th>\n",
       "      <th>home_score</th>\n",
       "      <th>away_score</th>\n",
       "      <th>tournament</th>\n",
       "      <th>city</th>\n",
       "      <th>country</th>\n",
       "      <th>neutral</th>\n",
       "    </tr>\n",
       "  </thead>\n",
       "  <tbody>\n",
       "    <tr>\n",
       "      <th>0</th>\n",
       "      <td>1969-11-01</td>\n",
       "      <td>Italy</td>\n",
       "      <td>France</td>\n",
       "      <td>1</td>\n",
       "      <td>0</td>\n",
       "      <td>Euro</td>\n",
       "      <td>Novara</td>\n",
       "      <td>Italy</td>\n",
       "      <td>False</td>\n",
       "    </tr>\n",
       "    <tr>\n",
       "      <th>1</th>\n",
       "      <td>1969-11-01</td>\n",
       "      <td>Denmark</td>\n",
       "      <td>England</td>\n",
       "      <td>4</td>\n",
       "      <td>3</td>\n",
       "      <td>Euro</td>\n",
       "      <td>Aosta</td>\n",
       "      <td>Italy</td>\n",
       "      <td>True</td>\n",
       "    </tr>\n",
       "    <tr>\n",
       "      <th>2</th>\n",
       "      <td>1969-11-02</td>\n",
       "      <td>England</td>\n",
       "      <td>France</td>\n",
       "      <td>2</td>\n",
       "      <td>0</td>\n",
       "      <td>Euro</td>\n",
       "      <td>Turin</td>\n",
       "      <td>Italy</td>\n",
       "      <td>True</td>\n",
       "    </tr>\n",
       "    <tr>\n",
       "      <th>3</th>\n",
       "      <td>1969-11-02</td>\n",
       "      <td>Italy</td>\n",
       "      <td>Denmark</td>\n",
       "      <td>3</td>\n",
       "      <td>1</td>\n",
       "      <td>Euro</td>\n",
       "      <td>Turin</td>\n",
       "      <td>Italy</td>\n",
       "      <td>False</td>\n",
       "    </tr>\n",
       "    <tr>\n",
       "      <th>4</th>\n",
       "      <td>1975-08-25</td>\n",
       "      <td>Thailand</td>\n",
       "      <td>Australia</td>\n",
       "      <td>3</td>\n",
       "      <td>2</td>\n",
       "      <td>AFC Championship</td>\n",
       "      <td>Hong Kong</td>\n",
       "      <td>Hong Kong</td>\n",
       "      <td>True</td>\n",
       "    </tr>\n",
       "  </tbody>\n",
       "</table>\n",
       "</div>"
      ],
      "text/plain": [
       "         date home_team  away_team  home_score  away_score        tournament  \\\n",
       "0  1969-11-01     Italy     France           1           0              Euro   \n",
       "1  1969-11-01   Denmark    England           4           3              Euro   \n",
       "2  1969-11-02   England     France           2           0              Euro   \n",
       "3  1969-11-02     Italy    Denmark           3           1              Euro   \n",
       "4  1975-08-25  Thailand  Australia           3           2  AFC Championship   \n",
       "\n",
       "        city    country  neutral  \n",
       "0     Novara      Italy    False  \n",
       "1      Aosta      Italy     True  \n",
       "2      Turin      Italy     True  \n",
       "3      Turin      Italy    False  \n",
       "4  Hong Kong  Hong Kong     True  "
      ]
     },
     "execution_count": 3,
     "metadata": {},
     "output_type": "execute_result"
    }
   ],
   "source": [
    "df.head()"
   ]
  },
  {
   "cell_type": "code",
   "execution_count": 4,
   "id": "fb6f2833",
   "metadata": {},
   "outputs": [
    {
     "data": {
      "text/plain": [
       "(4314, 9)"
      ]
     },
     "execution_count": 4,
     "metadata": {},
     "output_type": "execute_result"
    }
   ],
   "source": [
    "df.shape"
   ]
  },
  {
   "cell_type": "code",
   "execution_count": 5,
   "id": "706c3c5b",
   "metadata": {},
   "outputs": [
    {
     "data": {
      "text/plain": [
       "date          object\n",
       "home_team     object\n",
       "away_team     object\n",
       "home_score     int64\n",
       "away_score     int64\n",
       "tournament    object\n",
       "city          object\n",
       "country       object\n",
       "neutral         bool\n",
       "dtype: object"
      ]
     },
     "execution_count": 5,
     "metadata": {},
     "output_type": "execute_result"
    }
   ],
   "source": [
    "df.dtypes"
   ]
  },
  {
   "cell_type": "code",
   "execution_count": 6,
   "id": "09ec9fca",
   "metadata": {},
   "outputs": [],
   "source": [
    "df['date'] = df['date'].astype('datetime64')"
   ]
  },
  {
   "cell_type": "code",
   "execution_count": 7,
   "id": "3eff725b",
   "metadata": {},
   "outputs": [
    {
     "data": {
      "text/plain": [
       "date          datetime64[ns]\n",
       "home_team             object\n",
       "away_team             object\n",
       "home_score             int64\n",
       "away_score             int64\n",
       "tournament            object\n",
       "city                  object\n",
       "country               object\n",
       "neutral                 bool\n",
       "dtype: object"
      ]
     },
     "execution_count": 7,
     "metadata": {},
     "output_type": "execute_result"
    }
   ],
   "source": [
    "df.dtypes"
   ]
  },
  {
   "cell_type": "code",
   "execution_count": 8,
   "id": "24c224ab",
   "metadata": {},
   "outputs": [],
   "source": [
    "df['date'] = df['date'].dt.year"
   ]
  },
  {
   "cell_type": "code",
   "execution_count": 9,
   "id": "4570cb27",
   "metadata": {},
   "outputs": [],
   "source": [
    "df.rename(columns = {'date':'year'}, inplace = True)"
   ]
  },
  {
   "cell_type": "code",
   "execution_count": 10,
   "id": "b989252f",
   "metadata": {},
   "outputs": [
    {
     "data": {
      "text/html": [
       "<div>\n",
       "<style scoped>\n",
       "    .dataframe tbody tr th:only-of-type {\n",
       "        vertical-align: middle;\n",
       "    }\n",
       "\n",
       "    .dataframe tbody tr th {\n",
       "        vertical-align: top;\n",
       "    }\n",
       "\n",
       "    .dataframe thead th {\n",
       "        text-align: right;\n",
       "    }\n",
       "</style>\n",
       "<table border=\"1\" class=\"dataframe\">\n",
       "  <thead>\n",
       "    <tr style=\"text-align: right;\">\n",
       "      <th></th>\n",
       "      <th>year</th>\n",
       "      <th>home_team</th>\n",
       "      <th>away_team</th>\n",
       "      <th>home_score</th>\n",
       "      <th>away_score</th>\n",
       "      <th>tournament</th>\n",
       "      <th>city</th>\n",
       "      <th>country</th>\n",
       "      <th>neutral</th>\n",
       "    </tr>\n",
       "  </thead>\n",
       "  <tbody>\n",
       "    <tr>\n",
       "      <th>0</th>\n",
       "      <td>1969</td>\n",
       "      <td>Italy</td>\n",
       "      <td>France</td>\n",
       "      <td>1</td>\n",
       "      <td>0</td>\n",
       "      <td>Euro</td>\n",
       "      <td>Novara</td>\n",
       "      <td>Italy</td>\n",
       "      <td>False</td>\n",
       "    </tr>\n",
       "    <tr>\n",
       "      <th>1</th>\n",
       "      <td>1969</td>\n",
       "      <td>Denmark</td>\n",
       "      <td>England</td>\n",
       "      <td>4</td>\n",
       "      <td>3</td>\n",
       "      <td>Euro</td>\n",
       "      <td>Aosta</td>\n",
       "      <td>Italy</td>\n",
       "      <td>True</td>\n",
       "    </tr>\n",
       "    <tr>\n",
       "      <th>2</th>\n",
       "      <td>1969</td>\n",
       "      <td>England</td>\n",
       "      <td>France</td>\n",
       "      <td>2</td>\n",
       "      <td>0</td>\n",
       "      <td>Euro</td>\n",
       "      <td>Turin</td>\n",
       "      <td>Italy</td>\n",
       "      <td>True</td>\n",
       "    </tr>\n",
       "    <tr>\n",
       "      <th>3</th>\n",
       "      <td>1969</td>\n",
       "      <td>Italy</td>\n",
       "      <td>Denmark</td>\n",
       "      <td>3</td>\n",
       "      <td>1</td>\n",
       "      <td>Euro</td>\n",
       "      <td>Turin</td>\n",
       "      <td>Italy</td>\n",
       "      <td>False</td>\n",
       "    </tr>\n",
       "    <tr>\n",
       "      <th>4</th>\n",
       "      <td>1975</td>\n",
       "      <td>Thailand</td>\n",
       "      <td>Australia</td>\n",
       "      <td>3</td>\n",
       "      <td>2</td>\n",
       "      <td>AFC Championship</td>\n",
       "      <td>Hong Kong</td>\n",
       "      <td>Hong Kong</td>\n",
       "      <td>True</td>\n",
       "    </tr>\n",
       "  </tbody>\n",
       "</table>\n",
       "</div>"
      ],
      "text/plain": [
       "   year home_team  away_team  home_score  away_score        tournament  \\\n",
       "0  1969     Italy     France           1           0              Euro   \n",
       "1  1969   Denmark    England           4           3              Euro   \n",
       "2  1969   England     France           2           0              Euro   \n",
       "3  1969     Italy    Denmark           3           1              Euro   \n",
       "4  1975  Thailand  Australia           3           2  AFC Championship   \n",
       "\n",
       "        city    country  neutral  \n",
       "0     Novara      Italy    False  \n",
       "1      Aosta      Italy     True  \n",
       "2      Turin      Italy     True  \n",
       "3      Turin      Italy    False  \n",
       "4  Hong Kong  Hong Kong     True  "
      ]
     },
     "execution_count": 10,
     "metadata": {},
     "output_type": "execute_result"
    }
   ],
   "source": [
    "df.head()"
   ]
  },
  {
   "cell_type": "code",
   "execution_count": 11,
   "id": "3875eadc",
   "metadata": {},
   "outputs": [
    {
     "data": {
      "text/plain": [
       "array([1969, 1975, 1977, 1979, 1980, 1981, 1982, 1983, 1984, 1985, 1986,\n",
       "       1987, 1988, 1989, 1990, 1991, 1992, 1993, 1994, 1995, 1996, 1997,\n",
       "       1998, 1999, 2000, 2001, 2002, 2003, 2004, 2005, 2006, 2007, 2008,\n",
       "       2009, 2010, 2011, 2012, 2013, 2014, 2015, 2016, 2017, 2018, 2019,\n",
       "       2020, 2021, 2022])"
      ]
     },
     "execution_count": 11,
     "metadata": {},
     "output_type": "execute_result"
    }
   ],
   "source": [
    "df['year'].unique()"
   ]
  },
  {
   "cell_type": "code",
   "execution_count": 12,
   "id": "e45e2b69",
   "metadata": {},
   "outputs": [],
   "source": [
    "df = df.drop('neutral',axis=1)"
   ]
  },
  {
   "cell_type": "code",
   "execution_count": 13,
   "id": "45987a87",
   "metadata": {},
   "outputs": [
    {
     "data": {
      "text/plain": [
       "dtype('int64')"
      ]
     },
     "execution_count": 13,
     "metadata": {},
     "output_type": "execute_result"
    }
   ],
   "source": [
    "df['year'].dtype"
   ]
  },
  {
   "cell_type": "code",
   "execution_count": 14,
   "id": "fe91a386",
   "metadata": {},
   "outputs": [],
   "source": [
    "import pandas as pd\n",
    "import numpy as np\n",
    "import datetime"
   ]
  },
  {
   "cell_type": "code",
   "execution_count": 15,
   "id": "886325c6",
   "metadata": {},
   "outputs": [
    {
     "data": {
      "text/html": [
       "<div>\n",
       "<style scoped>\n",
       "    .dataframe tbody tr th:only-of-type {\n",
       "        vertical-align: middle;\n",
       "    }\n",
       "\n",
       "    .dataframe tbody tr th {\n",
       "        vertical-align: top;\n",
       "    }\n",
       "\n",
       "    .dataframe thead th {\n",
       "        text-align: right;\n",
       "    }\n",
       "</style>\n",
       "<table border=\"1\" class=\"dataframe\">\n",
       "  <thead>\n",
       "    <tr style=\"text-align: right;\">\n",
       "      <th></th>\n",
       "      <th>year</th>\n",
       "      <th>home_team</th>\n",
       "      <th>away_team</th>\n",
       "      <th>home_score</th>\n",
       "      <th>away_score</th>\n",
       "      <th>tournament</th>\n",
       "      <th>city</th>\n",
       "      <th>country</th>\n",
       "    </tr>\n",
       "  </thead>\n",
       "  <tbody>\n",
       "    <tr>\n",
       "      <th>0</th>\n",
       "      <td>2000</td>\n",
       "      <td>Turkey</td>\n",
       "      <td>Bosnia and Herzegovina</td>\n",
       "      <td>3</td>\n",
       "      <td>1</td>\n",
       "      <td>UEFA Euro qualification</td>\n",
       "      <td>Istanbul</td>\n",
       "      <td>Turkey</td>\n",
       "    </tr>\n",
       "    <tr>\n",
       "      <th>1</th>\n",
       "      <td>2000</td>\n",
       "      <td>England</td>\n",
       "      <td>Portugal</td>\n",
       "      <td>2</td>\n",
       "      <td>0</td>\n",
       "      <td>UEFA Euro qualification</td>\n",
       "      <td>Barnsley</td>\n",
       "      <td>England</td>\n",
       "    </tr>\n",
       "    <tr>\n",
       "      <th>2</th>\n",
       "      <td>2000</td>\n",
       "      <td>Greece</td>\n",
       "      <td>Bosnia and Herzegovina</td>\n",
       "      <td>4</td>\n",
       "      <td>0</td>\n",
       "      <td>UEFA Euro qualification</td>\n",
       "      <td>Greece</td>\n",
       "      <td>Greece</td>\n",
       "    </tr>\n",
       "    <tr>\n",
       "      <th>3</th>\n",
       "      <td>2000</td>\n",
       "      <td>England</td>\n",
       "      <td>Norway</td>\n",
       "      <td>0</td>\n",
       "      <td>3</td>\n",
       "      <td>UEFA Euro qualification</td>\n",
       "      <td>Norwich</td>\n",
       "      <td>England</td>\n",
       "    </tr>\n",
       "    <tr>\n",
       "      <th>4</th>\n",
       "      <td>2000</td>\n",
       "      <td>Portugal</td>\n",
       "      <td>United States</td>\n",
       "      <td>0</td>\n",
       "      <td>7</td>\n",
       "      <td>Algarve Cup</td>\n",
       "      <td>Albufeira</td>\n",
       "      <td>Portugal</td>\n",
       "    </tr>\n",
       "  </tbody>\n",
       "</table>\n",
       "</div>"
      ],
      "text/plain": [
       "   year home_team               away_team  home_score  away_score  \\\n",
       "0  2000    Turkey  Bosnia and Herzegovina           3           1   \n",
       "1  2000   England                Portugal           2           0   \n",
       "2  2000    Greece  Bosnia and Herzegovina           4           0   \n",
       "3  2000   England                  Norway           0           3   \n",
       "4  2000  Portugal           United States           0           7   \n",
       "\n",
       "                tournament       city   country  \n",
       "0  UEFA Euro qualification   Istanbul    Turkey  \n",
       "1  UEFA Euro qualification   Barnsley   England  \n",
       "2  UEFA Euro qualification     Greece    Greece  \n",
       "3  UEFA Euro qualification    Norwich   England  \n",
       "4              Algarve Cup  Albufeira  Portugal  "
      ]
     },
     "execution_count": 15,
     "metadata": {},
     "output_type": "execute_result"
    }
   ],
   "source": [
    "df =df.loc[df[\"year\"].between(2000, 2021)]\n",
    "df.reset_index(drop=True, inplace=True)\n",
    "df.head(5)"
   ]
  },
  {
   "cell_type": "code",
   "execution_count": 16,
   "id": "4306d6a2",
   "metadata": {},
   "outputs": [],
   "source": [
    "df['result']=df.home_score - df.away_score"
   ]
  },
  {
   "cell_type": "code",
   "execution_count": 17,
   "id": "abf5c75a",
   "metadata": {},
   "outputs": [
    {
     "data": {
      "text/html": [
       "<div>\n",
       "<style scoped>\n",
       "    .dataframe tbody tr th:only-of-type {\n",
       "        vertical-align: middle;\n",
       "    }\n",
       "\n",
       "    .dataframe tbody tr th {\n",
       "        vertical-align: top;\n",
       "    }\n",
       "\n",
       "    .dataframe thead th {\n",
       "        text-align: right;\n",
       "    }\n",
       "</style>\n",
       "<table border=\"1\" class=\"dataframe\">\n",
       "  <thead>\n",
       "    <tr style=\"text-align: right;\">\n",
       "      <th></th>\n",
       "      <th>year</th>\n",
       "      <th>home_team</th>\n",
       "      <th>away_team</th>\n",
       "      <th>home_score</th>\n",
       "      <th>away_score</th>\n",
       "      <th>tournament</th>\n",
       "      <th>city</th>\n",
       "      <th>country</th>\n",
       "      <th>result</th>\n",
       "    </tr>\n",
       "  </thead>\n",
       "  <tbody>\n",
       "    <tr>\n",
       "      <th>0</th>\n",
       "      <td>2000</td>\n",
       "      <td>Turkey</td>\n",
       "      <td>Bosnia and Herzegovina</td>\n",
       "      <td>3</td>\n",
       "      <td>1</td>\n",
       "      <td>UEFA Euro qualification</td>\n",
       "      <td>Istanbul</td>\n",
       "      <td>Turkey</td>\n",
       "      <td>2</td>\n",
       "    </tr>\n",
       "    <tr>\n",
       "      <th>1</th>\n",
       "      <td>2000</td>\n",
       "      <td>England</td>\n",
       "      <td>Portugal</td>\n",
       "      <td>2</td>\n",
       "      <td>0</td>\n",
       "      <td>UEFA Euro qualification</td>\n",
       "      <td>Barnsley</td>\n",
       "      <td>England</td>\n",
       "      <td>2</td>\n",
       "    </tr>\n",
       "    <tr>\n",
       "      <th>2</th>\n",
       "      <td>2000</td>\n",
       "      <td>Greece</td>\n",
       "      <td>Bosnia and Herzegovina</td>\n",
       "      <td>4</td>\n",
       "      <td>0</td>\n",
       "      <td>UEFA Euro qualification</td>\n",
       "      <td>Greece</td>\n",
       "      <td>Greece</td>\n",
       "      <td>4</td>\n",
       "    </tr>\n",
       "    <tr>\n",
       "      <th>3</th>\n",
       "      <td>2000</td>\n",
       "      <td>England</td>\n",
       "      <td>Norway</td>\n",
       "      <td>0</td>\n",
       "      <td>3</td>\n",
       "      <td>UEFA Euro qualification</td>\n",
       "      <td>Norwich</td>\n",
       "      <td>England</td>\n",
       "      <td>-3</td>\n",
       "    </tr>\n",
       "    <tr>\n",
       "      <th>4</th>\n",
       "      <td>2000</td>\n",
       "      <td>Portugal</td>\n",
       "      <td>United States</td>\n",
       "      <td>0</td>\n",
       "      <td>7</td>\n",
       "      <td>Algarve Cup</td>\n",
       "      <td>Albufeira</td>\n",
       "      <td>Portugal</td>\n",
       "      <td>-7</td>\n",
       "    </tr>\n",
       "  </tbody>\n",
       "</table>\n",
       "</div>"
      ],
      "text/plain": [
       "   year home_team               away_team  home_score  away_score  \\\n",
       "0  2000    Turkey  Bosnia and Herzegovina           3           1   \n",
       "1  2000   England                Portugal           2           0   \n",
       "2  2000    Greece  Bosnia and Herzegovina           4           0   \n",
       "3  2000   England                  Norway           0           3   \n",
       "4  2000  Portugal           United States           0           7   \n",
       "\n",
       "                tournament       city   country  result  \n",
       "0  UEFA Euro qualification   Istanbul    Turkey       2  \n",
       "1  UEFA Euro qualification   Barnsley   England       2  \n",
       "2  UEFA Euro qualification     Greece    Greece       4  \n",
       "3  UEFA Euro qualification    Norwich   England      -3  \n",
       "4              Algarve Cup  Albufeira  Portugal      -7  "
      ]
     },
     "execution_count": 17,
     "metadata": {},
     "output_type": "execute_result"
    }
   ],
   "source": [
    "df.head()"
   ]
  },
  {
   "cell_type": "code",
   "execution_count": 18,
   "id": "5d5960f6",
   "metadata": {},
   "outputs": [],
   "source": [
    "def ganar(x):\n",
    "    \n",
    "    if x>0:\n",
    "        return 'home'\n",
    "    \n",
    "    elif x<0:\n",
    "        return 'away'\n",
    "    \n",
    "    else:\n",
    "        return 'draw'\n",
    "\n",
    "\n",
    "df.result=df.result.apply(ganar)"
   ]
  },
  {
   "cell_type": "code",
   "execution_count": 19,
   "id": "b3732c9f",
   "metadata": {},
   "outputs": [
    {
     "data": {
      "text/html": [
       "<div>\n",
       "<style scoped>\n",
       "    .dataframe tbody tr th:only-of-type {\n",
       "        vertical-align: middle;\n",
       "    }\n",
       "\n",
       "    .dataframe tbody tr th {\n",
       "        vertical-align: top;\n",
       "    }\n",
       "\n",
       "    .dataframe thead th {\n",
       "        text-align: right;\n",
       "    }\n",
       "</style>\n",
       "<table border=\"1\" class=\"dataframe\">\n",
       "  <thead>\n",
       "    <tr style=\"text-align: right;\">\n",
       "      <th></th>\n",
       "      <th>year</th>\n",
       "      <th>home_team</th>\n",
       "      <th>away_team</th>\n",
       "      <th>home_score</th>\n",
       "      <th>away_score</th>\n",
       "      <th>tournament</th>\n",
       "      <th>city</th>\n",
       "      <th>country</th>\n",
       "      <th>result</th>\n",
       "    </tr>\n",
       "  </thead>\n",
       "  <tbody>\n",
       "    <tr>\n",
       "      <th>0</th>\n",
       "      <td>2000</td>\n",
       "      <td>Turkey</td>\n",
       "      <td>Bosnia and Herzegovina</td>\n",
       "      <td>3</td>\n",
       "      <td>1</td>\n",
       "      <td>UEFA Euro qualification</td>\n",
       "      <td>Istanbul</td>\n",
       "      <td>Turkey</td>\n",
       "      <td>home</td>\n",
       "    </tr>\n",
       "    <tr>\n",
       "      <th>1</th>\n",
       "      <td>2000</td>\n",
       "      <td>England</td>\n",
       "      <td>Portugal</td>\n",
       "      <td>2</td>\n",
       "      <td>0</td>\n",
       "      <td>UEFA Euro qualification</td>\n",
       "      <td>Barnsley</td>\n",
       "      <td>England</td>\n",
       "      <td>home</td>\n",
       "    </tr>\n",
       "    <tr>\n",
       "      <th>2</th>\n",
       "      <td>2000</td>\n",
       "      <td>Greece</td>\n",
       "      <td>Bosnia and Herzegovina</td>\n",
       "      <td>4</td>\n",
       "      <td>0</td>\n",
       "      <td>UEFA Euro qualification</td>\n",
       "      <td>Greece</td>\n",
       "      <td>Greece</td>\n",
       "      <td>home</td>\n",
       "    </tr>\n",
       "    <tr>\n",
       "      <th>3</th>\n",
       "      <td>2000</td>\n",
       "      <td>England</td>\n",
       "      <td>Norway</td>\n",
       "      <td>0</td>\n",
       "      <td>3</td>\n",
       "      <td>UEFA Euro qualification</td>\n",
       "      <td>Norwich</td>\n",
       "      <td>England</td>\n",
       "      <td>away</td>\n",
       "    </tr>\n",
       "    <tr>\n",
       "      <th>4</th>\n",
       "      <td>2000</td>\n",
       "      <td>Portugal</td>\n",
       "      <td>United States</td>\n",
       "      <td>0</td>\n",
       "      <td>7</td>\n",
       "      <td>Algarve Cup</td>\n",
       "      <td>Albufeira</td>\n",
       "      <td>Portugal</td>\n",
       "      <td>away</td>\n",
       "    </tr>\n",
       "  </tbody>\n",
       "</table>\n",
       "</div>"
      ],
      "text/plain": [
       "   year home_team               away_team  home_score  away_score  \\\n",
       "0  2000    Turkey  Bosnia and Herzegovina           3           1   \n",
       "1  2000   England                Portugal           2           0   \n",
       "2  2000    Greece  Bosnia and Herzegovina           4           0   \n",
       "3  2000   England                  Norway           0           3   \n",
       "4  2000  Portugal           United States           0           7   \n",
       "\n",
       "                tournament       city   country result  \n",
       "0  UEFA Euro qualification   Istanbul    Turkey   home  \n",
       "1  UEFA Euro qualification   Barnsley   England   home  \n",
       "2  UEFA Euro qualification     Greece    Greece   home  \n",
       "3  UEFA Euro qualification    Norwich   England   away  \n",
       "4              Algarve Cup  Albufeira  Portugal   away  "
      ]
     },
     "execution_count": 19,
     "metadata": {},
     "output_type": "execute_result"
    }
   ],
   "source": [
    "df.head()"
   ]
  },
  {
   "cell_type": "code",
   "execution_count": 20,
   "id": "16ed2a92",
   "metadata": {},
   "outputs": [
    {
     "data": {
      "text/html": [
       "<div>\n",
       "<style scoped>\n",
       "    .dataframe tbody tr th:only-of-type {\n",
       "        vertical-align: middle;\n",
       "    }\n",
       "\n",
       "    .dataframe tbody tr th {\n",
       "        vertical-align: top;\n",
       "    }\n",
       "\n",
       "    .dataframe thead th {\n",
       "        text-align: right;\n",
       "    }\n",
       "</style>\n",
       "<table border=\"1\" class=\"dataframe\">\n",
       "  <thead>\n",
       "    <tr style=\"text-align: right;\">\n",
       "      <th></th>\n",
       "      <th>year</th>\n",
       "      <th>home_team</th>\n",
       "      <th>away_team</th>\n",
       "      <th>home_score</th>\n",
       "      <th>away_score</th>\n",
       "      <th>tournament</th>\n",
       "      <th>city</th>\n",
       "      <th>country</th>\n",
       "      <th>result</th>\n",
       "      <th>winner</th>\n",
       "    </tr>\n",
       "  </thead>\n",
       "  <tbody>\n",
       "    <tr>\n",
       "      <th>0</th>\n",
       "      <td>2000</td>\n",
       "      <td>Turkey</td>\n",
       "      <td>Bosnia and Herzegovina</td>\n",
       "      <td>3</td>\n",
       "      <td>1</td>\n",
       "      <td>UEFA Euro qualification</td>\n",
       "      <td>Istanbul</td>\n",
       "      <td>Turkey</td>\n",
       "      <td>home</td>\n",
       "      <td>NaN</td>\n",
       "    </tr>\n",
       "    <tr>\n",
       "      <th>1</th>\n",
       "      <td>2000</td>\n",
       "      <td>England</td>\n",
       "      <td>Portugal</td>\n",
       "      <td>2</td>\n",
       "      <td>0</td>\n",
       "      <td>UEFA Euro qualification</td>\n",
       "      <td>Barnsley</td>\n",
       "      <td>England</td>\n",
       "      <td>home</td>\n",
       "      <td>NaN</td>\n",
       "    </tr>\n",
       "    <tr>\n",
       "      <th>2</th>\n",
       "      <td>2000</td>\n",
       "      <td>Greece</td>\n",
       "      <td>Bosnia and Herzegovina</td>\n",
       "      <td>4</td>\n",
       "      <td>0</td>\n",
       "      <td>UEFA Euro qualification</td>\n",
       "      <td>Greece</td>\n",
       "      <td>Greece</td>\n",
       "      <td>home</td>\n",
       "      <td>NaN</td>\n",
       "    </tr>\n",
       "    <tr>\n",
       "      <th>3</th>\n",
       "      <td>2000</td>\n",
       "      <td>England</td>\n",
       "      <td>Norway</td>\n",
       "      <td>0</td>\n",
       "      <td>3</td>\n",
       "      <td>UEFA Euro qualification</td>\n",
       "      <td>Norwich</td>\n",
       "      <td>England</td>\n",
       "      <td>away</td>\n",
       "      <td>NaN</td>\n",
       "    </tr>\n",
       "    <tr>\n",
       "      <th>4</th>\n",
       "      <td>2000</td>\n",
       "      <td>Portugal</td>\n",
       "      <td>United States</td>\n",
       "      <td>0</td>\n",
       "      <td>7</td>\n",
       "      <td>Algarve Cup</td>\n",
       "      <td>Albufeira</td>\n",
       "      <td>Portugal</td>\n",
       "      <td>away</td>\n",
       "      <td>NaN</td>\n",
       "    </tr>\n",
       "  </tbody>\n",
       "</table>\n",
       "</div>"
      ],
      "text/plain": [
       "   year home_team               away_team  home_score  away_score  \\\n",
       "0  2000    Turkey  Bosnia and Herzegovina           3           1   \n",
       "1  2000   England                Portugal           2           0   \n",
       "2  2000    Greece  Bosnia and Herzegovina           4           0   \n",
       "3  2000   England                  Norway           0           3   \n",
       "4  2000  Portugal           United States           0           7   \n",
       "\n",
       "                tournament       city   country result  winner  \n",
       "0  UEFA Euro qualification   Istanbul    Turkey   home     NaN  \n",
       "1  UEFA Euro qualification   Barnsley   England   home     NaN  \n",
       "2  UEFA Euro qualification     Greece    Greece   home     NaN  \n",
       "3  UEFA Euro qualification    Norwich   England   away     NaN  \n",
       "4              Algarve Cup  Albufeira  Portugal   away     NaN  "
      ]
     },
     "execution_count": 20,
     "metadata": {},
     "output_type": "execute_result"
    }
   ],
   "source": [
    "df['winner'] = pd.Series(dtype='int')\n",
    "df.head()"
   ]
  },
  {
   "cell_type": "code",
   "execution_count": 21,
   "id": "fb2b0048",
   "metadata": {},
   "outputs": [
    {
     "data": {
      "text/html": [
       "<div>\n",
       "<style scoped>\n",
       "    .dataframe tbody tr th:only-of-type {\n",
       "        vertical-align: middle;\n",
       "    }\n",
       "\n",
       "    .dataframe tbody tr th {\n",
       "        vertical-align: top;\n",
       "    }\n",
       "\n",
       "    .dataframe thead th {\n",
       "        text-align: right;\n",
       "    }\n",
       "</style>\n",
       "<table border=\"1\" class=\"dataframe\">\n",
       "  <thead>\n",
       "    <tr style=\"text-align: right;\">\n",
       "      <th></th>\n",
       "      <th>year</th>\n",
       "      <th>home_team</th>\n",
       "      <th>away_team</th>\n",
       "      <th>home_score</th>\n",
       "      <th>away_score</th>\n",
       "      <th>tournament</th>\n",
       "      <th>city</th>\n",
       "      <th>country</th>\n",
       "      <th>result</th>\n",
       "      <th>winner</th>\n",
       "    </tr>\n",
       "  </thead>\n",
       "  <tbody>\n",
       "    <tr>\n",
       "      <th>0</th>\n",
       "      <td>2000</td>\n",
       "      <td>Turkey</td>\n",
       "      <td>Bosnia and Herzegovina</td>\n",
       "      <td>3</td>\n",
       "      <td>1</td>\n",
       "      <td>UEFA Euro qualification</td>\n",
       "      <td>Istanbul</td>\n",
       "      <td>Turkey</td>\n",
       "      <td>home</td>\n",
       "      <td>NaN</td>\n",
       "    </tr>\n",
       "    <tr>\n",
       "      <th>1</th>\n",
       "      <td>2000</td>\n",
       "      <td>England</td>\n",
       "      <td>Portugal</td>\n",
       "      <td>2</td>\n",
       "      <td>0</td>\n",
       "      <td>UEFA Euro qualification</td>\n",
       "      <td>Barnsley</td>\n",
       "      <td>England</td>\n",
       "      <td>home</td>\n",
       "      <td>NaN</td>\n",
       "    </tr>\n",
       "    <tr>\n",
       "      <th>2</th>\n",
       "      <td>2000</td>\n",
       "      <td>Greece</td>\n",
       "      <td>Bosnia and Herzegovina</td>\n",
       "      <td>4</td>\n",
       "      <td>0</td>\n",
       "      <td>UEFA Euro qualification</td>\n",
       "      <td>Greece</td>\n",
       "      <td>Greece</td>\n",
       "      <td>home</td>\n",
       "      <td>NaN</td>\n",
       "    </tr>\n",
       "    <tr>\n",
       "      <th>3</th>\n",
       "      <td>2000</td>\n",
       "      <td>England</td>\n",
       "      <td>Norway</td>\n",
       "      <td>0</td>\n",
       "      <td>3</td>\n",
       "      <td>UEFA Euro qualification</td>\n",
       "      <td>Norwich</td>\n",
       "      <td>England</td>\n",
       "      <td>away</td>\n",
       "      <td>NaN</td>\n",
       "    </tr>\n",
       "    <tr>\n",
       "      <th>4</th>\n",
       "      <td>2000</td>\n",
       "      <td>Portugal</td>\n",
       "      <td>United States</td>\n",
       "      <td>0</td>\n",
       "      <td>7</td>\n",
       "      <td>Algarve Cup</td>\n",
       "      <td>Albufeira</td>\n",
       "      <td>Portugal</td>\n",
       "      <td>away</td>\n",
       "      <td>NaN</td>\n",
       "    </tr>\n",
       "  </tbody>\n",
       "</table>\n",
       "</div>"
      ],
      "text/plain": [
       "   year home_team               away_team  home_score  away_score  \\\n",
       "0  2000    Turkey  Bosnia and Herzegovina           3           1   \n",
       "1  2000   England                Portugal           2           0   \n",
       "2  2000    Greece  Bosnia and Herzegovina           4           0   \n",
       "3  2000   England                  Norway           0           3   \n",
       "4  2000  Portugal           United States           0           7   \n",
       "\n",
       "                tournament       city   country result  winner  \n",
       "0  UEFA Euro qualification   Istanbul    Turkey   home     NaN  \n",
       "1  UEFA Euro qualification   Barnsley   England   home     NaN  \n",
       "2  UEFA Euro qualification     Greece    Greece   home     NaN  \n",
       "3  UEFA Euro qualification    Norwich   England   away     NaN  \n",
       "4              Algarve Cup  Albufeira  Portugal   away     NaN  "
      ]
     },
     "execution_count": 21,
     "metadata": {},
     "output_type": "execute_result"
    }
   ],
   "source": [
    "df.head()"
   ]
  },
  {
   "cell_type": "code",
   "execution_count": 22,
   "id": "dc61ace9",
   "metadata": {},
   "outputs": [],
   "source": [
    "df['winner'] = df.apply(lambda x : x['home_team'] if x['home_score'] > x['away_score'] \n",
    "                                              else (x['away_team'] if x['home_score'] < x['away_score'] else np.nan),\n",
    "                                              axis=1)"
   ]
  },
  {
   "cell_type": "code",
   "execution_count": 23,
   "id": "30a0b3b1",
   "metadata": {},
   "outputs": [],
   "source": [
    "df['winner']=df['winner'].fillna('None')"
   ]
  },
  {
   "cell_type": "markdown",
   "id": "4cc60e24",
   "metadata": {},
   "source": [
    "# SCRAPING"
   ]
  },
  {
   "cell_type": "markdown",
   "id": "b0b1508a",
   "metadata": {},
   "source": [
    "## Method: Selenium"
   ]
  },
  {
   "cell_type": "code",
   "execution_count": 24,
   "id": "5405074a",
   "metadata": {},
   "outputs": [
    {
     "name": "stdout",
     "output_type": "stream",
     "text": [
      "Requirement already satisfied: selenium in /Users/lucasmigliano/opt/anaconda3/lib/python3.9/site-packages (4.1.3)\n",
      "Requirement already satisfied: urllib3[secure,socks]~=1.26 in /Users/lucasmigliano/opt/anaconda3/lib/python3.9/site-packages (from selenium) (1.26.7)\n",
      "Requirement already satisfied: trio-websocket~=0.9 in /Users/lucasmigliano/opt/anaconda3/lib/python3.9/site-packages (from selenium) (0.9.2)\n",
      "Requirement already satisfied: trio~=0.17 in /Users/lucasmigliano/opt/anaconda3/lib/python3.9/site-packages (from selenium) (0.20.0)\n",
      "Requirement already satisfied: idna in /Users/lucasmigliano/opt/anaconda3/lib/python3.9/site-packages (from trio~=0.17->selenium) (3.2)\n",
      "Requirement already satisfied: attrs>=19.2.0 in /Users/lucasmigliano/opt/anaconda3/lib/python3.9/site-packages (from trio~=0.17->selenium) (21.2.0)\n",
      "Requirement already satisfied: outcome in /Users/lucasmigliano/opt/anaconda3/lib/python3.9/site-packages (from trio~=0.17->selenium) (1.1.0)\n",
      "Requirement already satisfied: async-generator>=1.9 in /Users/lucasmigliano/opt/anaconda3/lib/python3.9/site-packages (from trio~=0.17->selenium) (1.10)\n",
      "Requirement already satisfied: sniffio in /Users/lucasmigliano/opt/anaconda3/lib/python3.9/site-packages (from trio~=0.17->selenium) (1.2.0)\n",
      "Requirement already satisfied: sortedcontainers in /Users/lucasmigliano/opt/anaconda3/lib/python3.9/site-packages (from trio~=0.17->selenium) (2.4.0)\n",
      "Requirement already satisfied: wsproto>=0.14 in /Users/lucasmigliano/opt/anaconda3/lib/python3.9/site-packages (from trio-websocket~=0.9->selenium) (1.1.0)\n",
      "Requirement already satisfied: PySocks!=1.5.7,<2.0,>=1.5.6 in /Users/lucasmigliano/opt/anaconda3/lib/python3.9/site-packages (from urllib3[secure,socks]~=1.26->selenium) (1.7.1)\n",
      "Requirement already satisfied: pyOpenSSL>=0.14 in /Users/lucasmigliano/opt/anaconda3/lib/python3.9/site-packages (from urllib3[secure,socks]~=1.26->selenium) (21.0.0)\n",
      "Requirement already satisfied: cryptography>=1.3.4 in /Users/lucasmigliano/opt/anaconda3/lib/python3.9/site-packages (from urllib3[secure,socks]~=1.26->selenium) (3.4.8)\n",
      "Requirement already satisfied: certifi in /Users/lucasmigliano/opt/anaconda3/lib/python3.9/site-packages (from urllib3[secure,socks]~=1.26->selenium) (2021.10.8)\n",
      "Requirement already satisfied: cffi>=1.12 in /Users/lucasmigliano/opt/anaconda3/lib/python3.9/site-packages (from cryptography>=1.3.4->urllib3[secure,socks]~=1.26->selenium) (1.14.6)\n",
      "Requirement already satisfied: pycparser in /Users/lucasmigliano/opt/anaconda3/lib/python3.9/site-packages (from cffi>=1.12->cryptography>=1.3.4->urllib3[secure,socks]~=1.26->selenium) (2.20)\n",
      "Requirement already satisfied: six>=1.5.2 in /Users/lucasmigliano/opt/anaconda3/lib/python3.9/site-packages (from pyOpenSSL>=0.14->urllib3[secure,socks]~=1.26->selenium) (1.16.0)\n",
      "Requirement already satisfied: h11<1,>=0.9.0 in /Users/lucasmigliano/opt/anaconda3/lib/python3.9/site-packages (from wsproto>=0.14->trio-websocket~=0.9->selenium) (0.13.0)\n",
      "Note: you may need to restart the kernel to use updated packages.\n"
     ]
    }
   ],
   "source": [
    "%pip install selenium\n",
    "from selenium import webdriver"
   ]
  },
  {
   "cell_type": "code",
   "execution_count": 25,
   "id": "7959a47d",
   "metadata": {},
   "outputs": [
    {
     "name": "stdout",
     "output_type": "stream",
     "text": [
      "Requirement already satisfied: webdriver-manager in /Users/lucasmigliano/opt/anaconda3/lib/python3.9/site-packages (3.5.4)\n",
      "Requirement already satisfied: requests in /Users/lucasmigliano/opt/anaconda3/lib/python3.9/site-packages (from webdriver-manager) (2.26.0)\n",
      "Requirement already satisfied: urllib3<1.27,>=1.21.1 in /Users/lucasmigliano/opt/anaconda3/lib/python3.9/site-packages (from requests->webdriver-manager) (1.26.7)\n",
      "Requirement already satisfied: charset-normalizer~=2.0.0 in /Users/lucasmigliano/opt/anaconda3/lib/python3.9/site-packages (from requests->webdriver-manager) (2.0.4)\n",
      "Requirement already satisfied: idna<4,>=2.5 in /Users/lucasmigliano/opt/anaconda3/lib/python3.9/site-packages (from requests->webdriver-manager) (3.2)\n",
      "Requirement already satisfied: certifi>=2017.4.17 in /Users/lucasmigliano/opt/anaconda3/lib/python3.9/site-packages (from requests->webdriver-manager) (2021.10.8)\n",
      "Note: you may need to restart the kernel to use updated packages.\n"
     ]
    }
   ],
   "source": [
    "%pip install webdriver-manager\n",
    "from webdriver_manager.chrome import ChromeDriverManager"
   ]
  },
  {
   "cell_type": "code",
   "execution_count": 26,
   "id": "4f71f674",
   "metadata": {},
   "outputs": [],
   "source": [
    "from selenium.webdriver.chrome.options import Options\n",
    "\n",
    "opciones=Options()\n",
    "\n",
    "opciones.add_experimental_option('excludeSwitches', ['enable-automation'])\n",
    "opciones.add_experimental_option('useAutomationExtension', False)\n",
    "opciones.headless=False    # si True, no aperece la ventana (headless=no visible)\n",
    "opciones.add_argument('--start-maximized')         # comienza maximizado\n",
    "opciones.add_argument('user-data-dir=selenium')    # mantiene las cookies\n",
    "opciones.add_extension('driver/adblock.crx')       # adblocker\n",
    "opciones.add_argument('--incognito')"
   ]
  },
  {
   "cell_type": "code",
   "execution_count": 39,
   "id": "e2557ebc",
   "metadata": {},
   "outputs": [
    {
     "name": "stderr",
     "output_type": "stream",
     "text": [
      "\n",
      "\n",
      "====== WebDriver manager ======\n",
      "Current google-chrome version is 100.0.4896\n",
      "Get LATEST chromedriver version for 100.0.4896 google-chrome\n",
      "Driver [/Users/lucasmigliano/.wdm/drivers/chromedriver/mac64/100.0.4896.60/chromedriver] found in cache\n"
     ]
    }
   ],
   "source": [
    "PATH=ChromeDriverManager().install()\n",
    "URL='https://www.goal.com/en-in/news/fifa-womens-world-player-of-the-year-award-winners/blt12683887fe8df959'\n",
    "driver=webdriver.Chrome(PATH)\n",
    "driver.get(URL)"
   ]
  },
  {
   "cell_type": "code",
   "execution_count": 40,
   "id": "257e5e54",
   "metadata": {},
   "outputs": [],
   "source": [
    "acepto=driver.find_element_by_xpath('//*[@id=\"onetrust-accept-btn-handler\"]')\n",
    "\n",
    "acepto.click()"
   ]
  },
  {
   "cell_type": "code",
   "execution_count": 41,
   "id": "0a67575e",
   "metadata": {},
   "outputs": [
    {
     "data": {
      "text/plain": [
       "[<selenium.webdriver.remote.webelement.WebElement (session=\"d3f3efefe827e509dbb92b149e3aadab\", element=\"b3c4e5a5-0659-4625-8163-b177640789de\")>,\n",
       " <selenium.webdriver.remote.webelement.WebElement (session=\"d3f3efefe827e509dbb92b149e3aadab\", element=\"537d4aa0-f66f-4b54-b02b-e49efaacfc4d\")>,\n",
       " <selenium.webdriver.remote.webelement.WebElement (session=\"d3f3efefe827e509dbb92b149e3aadab\", element=\"4de8e3db-85e2-4248-9565-bfbbde209878\")>,\n",
       " <selenium.webdriver.remote.webelement.WebElement (session=\"d3f3efefe827e509dbb92b149e3aadab\", element=\"6e475424-6c27-4281-b076-ecd7f83501a4\")>,\n",
       " <selenium.webdriver.remote.webelement.WebElement (session=\"d3f3efefe827e509dbb92b149e3aadab\", element=\"51e3bda8-ecc2-4868-987f-1e26721fcf7f\")>,\n",
       " <selenium.webdriver.remote.webelement.WebElement (session=\"d3f3efefe827e509dbb92b149e3aadab\", element=\"d9d51baa-a4b7-4a06-9097-e4e389eb9260\")>,\n",
       " <selenium.webdriver.remote.webelement.WebElement (session=\"d3f3efefe827e509dbb92b149e3aadab\", element=\"183ad40d-68a1-4f53-9237-0a489d44e6b7\")>,\n",
       " <selenium.webdriver.remote.webelement.WebElement (session=\"d3f3efefe827e509dbb92b149e3aadab\", element=\"9df128b0-51b0-4a62-9c63-5436a6c36244\")>,\n",
       " <selenium.webdriver.remote.webelement.WebElement (session=\"d3f3efefe827e509dbb92b149e3aadab\", element=\"6ee67535-484f-4c3d-8e4d-8acb8ebaab20\")>,\n",
       " <selenium.webdriver.remote.webelement.WebElement (session=\"d3f3efefe827e509dbb92b149e3aadab\", element=\"4ffa343f-d06f-4a92-bf55-d6f17448b516\")>,\n",
       " <selenium.webdriver.remote.webelement.WebElement (session=\"d3f3efefe827e509dbb92b149e3aadab\", element=\"bf4e43be-9270-4b9e-a2ca-86c9f63c3506\")>,\n",
       " <selenium.webdriver.remote.webelement.WebElement (session=\"d3f3efefe827e509dbb92b149e3aadab\", element=\"472c3884-29f1-4918-936c-9d21d00d90d1\")>,\n",
       " <selenium.webdriver.remote.webelement.WebElement (session=\"d3f3efefe827e509dbb92b149e3aadab\", element=\"839b1de1-247e-4b5b-94bf-59bc7d46f7eb\")>,\n",
       " <selenium.webdriver.remote.webelement.WebElement (session=\"d3f3efefe827e509dbb92b149e3aadab\", element=\"58ea2e9a-2008-47c6-8f1d-70ee034b5136\")>,\n",
       " <selenium.webdriver.remote.webelement.WebElement (session=\"d3f3efefe827e509dbb92b149e3aadab\", element=\"4bef26de-8521-4413-8c66-8dc6d35b1072\")>,\n",
       " <selenium.webdriver.remote.webelement.WebElement (session=\"d3f3efefe827e509dbb92b149e3aadab\", element=\"430bd00d-9736-4858-9103-873495e5496b\")>,\n",
       " <selenium.webdriver.remote.webelement.WebElement (session=\"d3f3efefe827e509dbb92b149e3aadab\", element=\"9fe81a70-f518-4cac-b794-e0f4ef9819eb\")>,\n",
       " <selenium.webdriver.remote.webelement.WebElement (session=\"d3f3efefe827e509dbb92b149e3aadab\", element=\"b80babed-3d1d-4c0a-90bb-370fb2fc01b2\")>,\n",
       " <selenium.webdriver.remote.webelement.WebElement (session=\"d3f3efefe827e509dbb92b149e3aadab\", element=\"ef99fc34-8788-4bfe-a6d9-54348f3ee886\")>,\n",
       " <selenium.webdriver.remote.webelement.WebElement (session=\"d3f3efefe827e509dbb92b149e3aadab\", element=\"78352161-2bba-4d44-bf07-a9e44fef2d81\")>,\n",
       " <selenium.webdriver.remote.webelement.WebElement (session=\"d3f3efefe827e509dbb92b149e3aadab\", element=\"8a84e67d-eaec-4b8a-9d75-cd4031ab0c15\")>,\n",
       " <selenium.webdriver.remote.webelement.WebElement (session=\"d3f3efefe827e509dbb92b149e3aadab\", element=\"69b31cb5-6b09-4d52-bff5-b5e925a6176f\")>]"
      ]
     },
     "execution_count": 41,
     "metadata": {},
     "output_type": "execute_result"
    }
   ],
   "source": [
    "tabla = driver.find_element_by_xpath('//*[@id=\"__next\"]/div/main/div/div/article/main/div[3]/div/div[4]')\n",
    "\n",
    "players = tabla.find_elements_by_tag_name('tr')\n",
    "\n",
    "players"
   ]
  },
  {
   "cell_type": "code",
   "execution_count": 42,
   "id": "8210e5b8",
   "metadata": {},
   "outputs": [
    {
     "data": {
      "text/plain": [
       "[['Year', 'Player', 'Club'],\n",
       " ['2001', 'Mia Hamm', 'Washington Freedom'],\n",
       " ['2002', 'Mia Hamm', 'Washington Freedom'],\n",
       " ['2003', 'Birgit Prinz', 'Carolina Courage/Birgit Prinz'],\n",
       " ['2004', 'Birgit Prinz', 'FFC Frankfurt'],\n",
       " ['2005', 'Birgit Prinz', 'FFC Frankfurt'],\n",
       " ['2006', 'Marta', 'Umea IK'],\n",
       " ['2007', 'Marta', 'Umea IK'],\n",
       " ['2008', 'Marta', 'Umea IK'],\n",
       " ['2009', 'Marta', 'Santos'],\n",
       " ['2010', 'Marta', 'FC Gold Pride'],\n",
       " ['2011', 'Homare Sawa', 'INAC Kobe Leonessa'],\n",
       " ['2012', 'Abby Wambach', 'W/O club'],\n",
       " ['2013', 'Nadine Angerer', 'Brisbane Roar'],\n",
       " ['2014', 'Nadine Kebler', 'Wolfsburg'],\n",
       " ['2015', 'Carli Lloyd', 'Houston Dash'],\n",
       " ['2016', 'Carli Lloyd', 'Houston Dash'],\n",
       " ['2017', 'Lieke Martens', 'FC Barcelona'],\n",
       " ['2018', 'Marta', 'Orlando Pride'],\n",
       " ['2019', 'Megan Rapinoe', 'Reign FC'],\n",
       " ['2020', 'Lucy Bronze', 'Manchester City'],\n",
       " ['2021', 'Alexia Putellas', 'FC Barcelona']]"
      ]
     },
     "execution_count": 42,
     "metadata": {},
     "output_type": "execute_result"
    }
   ],
   "source": [
    "lst = []\n",
    "\n",
    "for i in players:\n",
    "    i = i.text.replace('\\n', ',,,').replace('  ', ',,,').split(',,,')\n",
    "    lst.append(i)\n",
    "lst"
   ]
  },
  {
   "cell_type": "code",
   "execution_count": 43,
   "id": "761cc3c5",
   "metadata": {},
   "outputs": [
    {
     "data": {
      "text/html": [
       "<div>\n",
       "<style scoped>\n",
       "    .dataframe tbody tr th:only-of-type {\n",
       "        vertical-align: middle;\n",
       "    }\n",
       "\n",
       "    .dataframe tbody tr th {\n",
       "        vertical-align: top;\n",
       "    }\n",
       "\n",
       "    .dataframe thead th {\n",
       "        text-align: right;\n",
       "    }\n",
       "</style>\n",
       "<table border=\"1\" class=\"dataframe\">\n",
       "  <thead>\n",
       "    <tr style=\"text-align: right;\">\n",
       "      <th></th>\n",
       "      <th>Year</th>\n",
       "      <th>Player</th>\n",
       "      <th>Club</th>\n",
       "    </tr>\n",
       "  </thead>\n",
       "  <tbody>\n",
       "    <tr>\n",
       "      <th>0</th>\n",
       "      <td>2001</td>\n",
       "      <td>Mia Hamm</td>\n",
       "      <td>Washington Freedom</td>\n",
       "    </tr>\n",
       "    <tr>\n",
       "      <th>1</th>\n",
       "      <td>2002</td>\n",
       "      <td>Mia Hamm</td>\n",
       "      <td>Washington Freedom</td>\n",
       "    </tr>\n",
       "    <tr>\n",
       "      <th>2</th>\n",
       "      <td>2003</td>\n",
       "      <td>Birgit Prinz</td>\n",
       "      <td>Carolina Courage/Birgit Prinz</td>\n",
       "    </tr>\n",
       "    <tr>\n",
       "      <th>3</th>\n",
       "      <td>2004</td>\n",
       "      <td>Birgit Prinz</td>\n",
       "      <td>FFC Frankfurt</td>\n",
       "    </tr>\n",
       "    <tr>\n",
       "      <th>4</th>\n",
       "      <td>2005</td>\n",
       "      <td>Birgit Prinz</td>\n",
       "      <td>FFC Frankfurt</td>\n",
       "    </tr>\n",
       "  </tbody>\n",
       "</table>\n",
       "</div>"
      ],
      "text/plain": [
       "   Year        Player                           Club\n",
       "0  2001      Mia Hamm             Washington Freedom\n",
       "1  2002      Mia Hamm             Washington Freedom\n",
       "2  2003  Birgit Prinz  Carolina Courage/Birgit Prinz\n",
       "3  2004  Birgit Prinz                  FFC Frankfurt\n",
       "4  2005  Birgit Prinz                  FFC Frankfurt"
      ]
     },
     "execution_count": 43,
     "metadata": {},
     "output_type": "execute_result"
    }
   ],
   "source": [
    "col_names=lst[0]\n",
    "\n",
    "data=lst[1:]\n",
    "\n",
    "df3=pd.DataFrame(data, columns=col_names)\n",
    "\n",
    "df3.head()"
   ]
  },
  {
   "cell_type": "code",
   "execution_count": 44,
   "id": "d82bd18c",
   "metadata": {},
   "outputs": [
    {
     "data": {
      "text/html": [
       "<div>\n",
       "<style scoped>\n",
       "    .dataframe tbody tr th:only-of-type {\n",
       "        vertical-align: middle;\n",
       "    }\n",
       "\n",
       "    .dataframe tbody tr th {\n",
       "        vertical-align: top;\n",
       "    }\n",
       "\n",
       "    .dataframe thead th {\n",
       "        text-align: right;\n",
       "    }\n",
       "</style>\n",
       "<table border=\"1\" class=\"dataframe\">\n",
       "  <thead>\n",
       "    <tr style=\"text-align: right;\">\n",
       "      <th></th>\n",
       "      <th>Year</th>\n",
       "      <th>Player</th>\n",
       "      <th>Club</th>\n",
       "    </tr>\n",
       "  </thead>\n",
       "  <tbody>\n",
       "    <tr>\n",
       "      <th>0</th>\n",
       "      <td>2001</td>\n",
       "      <td>Mia Hamm</td>\n",
       "      <td>Washington Freedom</td>\n",
       "    </tr>\n",
       "    <tr>\n",
       "      <th>1</th>\n",
       "      <td>2002</td>\n",
       "      <td>Mia Hamm</td>\n",
       "      <td>Washington Freedom</td>\n",
       "    </tr>\n",
       "    <tr>\n",
       "      <th>2</th>\n",
       "      <td>2003</td>\n",
       "      <td>Birgit Prinz</td>\n",
       "      <td>FFC Frankfurt</td>\n",
       "    </tr>\n",
       "    <tr>\n",
       "      <th>3</th>\n",
       "      <td>2004</td>\n",
       "      <td>Birgit Prinz</td>\n",
       "      <td>FFC Frankfurt</td>\n",
       "    </tr>\n",
       "    <tr>\n",
       "      <th>4</th>\n",
       "      <td>2005</td>\n",
       "      <td>Birgit Prinz</td>\n",
       "      <td>FFC Frankfurt</td>\n",
       "    </tr>\n",
       "  </tbody>\n",
       "</table>\n",
       "</div>"
      ],
      "text/plain": [
       "   Year        Player                Club\n",
       "0  2001      Mia Hamm  Washington Freedom\n",
       "1  2002      Mia Hamm  Washington Freedom\n",
       "2  2003  Birgit Prinz       FFC Frankfurt\n",
       "3  2004  Birgit Prinz       FFC Frankfurt\n",
       "4  2005  Birgit Prinz       FFC Frankfurt"
      ]
     },
     "execution_count": 44,
     "metadata": {},
     "output_type": "execute_result"
    }
   ],
   "source": [
    "df3['Club']=[c.replace('Carolina Courage/Birgit Prinz', 'FFC Frankfurt') for c in df3.Club]\n",
    "\n",
    "df3.head()"
   ]
  },
  {
   "cell_type": "markdown",
   "id": "972b5666",
   "metadata": {},
   "source": [
    "# API"
   ]
  },
  {
   "cell_type": "markdown",
   "id": "aba505ad",
   "metadata": {},
   "source": [
    "## FIFA"
   ]
  },
  {
   "cell_type": "code",
   "execution_count": null,
   "id": "299e8ddc",
   "metadata": {},
   "outputs": [],
   "source": []
  }
 ],
 "metadata": {
  "kernelspec": {
   "display_name": "Python 3 (ipykernel)",
   "language": "python",
   "name": "python3"
  },
  "language_info": {
   "codemirror_mode": {
    "name": "ipython",
    "version": 3
   },
   "file_extension": ".py",
   "mimetype": "text/x-python",
   "name": "python",
   "nbconvert_exporter": "python",
   "pygments_lexer": "ipython3",
   "version": "3.9.7"
  }
 },
 "nbformat": 4,
 "nbformat_minor": 5
}
