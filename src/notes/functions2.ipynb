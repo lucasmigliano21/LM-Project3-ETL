{
 "cells": [
  {
   "cell_type": "markdown",
   "id": "16f3ca21",
   "metadata": {},
   "source": [
    "# CLEANING"
   ]
  },
  {
   "cell_type": "markdown",
   "id": "eb5993bb",
   "metadata": {},
   "source": [
    "## CSV - DATASET"
   ]
  },
  {
   "cell_type": "code",
   "execution_count": 1,
   "id": "0eceb173",
   "metadata": {},
   "outputs": [
    {
     "ename": "KeyboardInterrupt",
     "evalue": "",
     "output_type": "error",
     "traceback": [
      "\u001b[0;31m---------------------------------------------------------------------------\u001b[0m",
      "\u001b[0;31mKeyboardInterrupt\u001b[0m                         Traceback (most recent call last)",
      "\u001b[0;32m/var/folders/y9/1ck368zx5tq778d5611f3syw0000gn/T/ipykernel_92984/4137143968.py\u001b[0m in \u001b[0;36m<module>\u001b[0;34m\u001b[0m\n\u001b[0;32m----> 1\u001b[0;31m \u001b[0;32mimport\u001b[0m \u001b[0mpandas\u001b[0m \u001b[0;32mas\u001b[0m \u001b[0mpd\u001b[0m\u001b[0;34m\u001b[0m\u001b[0;34m\u001b[0m\u001b[0m\n\u001b[0m\u001b[1;32m      2\u001b[0m \u001b[0mpd\u001b[0m\u001b[0;34m.\u001b[0m\u001b[0mset_option\u001b[0m\u001b[0;34m(\u001b[0m\u001b[0;34m'display.max_columns'\u001b[0m\u001b[0;34m,\u001b[0m \u001b[0;32mNone\u001b[0m\u001b[0;34m)\u001b[0m\u001b[0;34m\u001b[0m\u001b[0;34m\u001b[0m\u001b[0m\n\u001b[1;32m      3\u001b[0m \u001b[0mpd\u001b[0m\u001b[0;34m.\u001b[0m\u001b[0mset_option\u001b[0m\u001b[0;34m(\u001b[0m\u001b[0;34m'display.max_rows'\u001b[0m\u001b[0;34m,\u001b[0m \u001b[0;32mNone\u001b[0m\u001b[0;34m)\u001b[0m\u001b[0;34m\u001b[0m\u001b[0;34m\u001b[0m\u001b[0m\n\u001b[1;32m      4\u001b[0m \u001b[0;32mimport\u001b[0m \u001b[0mwarnings\u001b[0m\u001b[0;34m\u001b[0m\u001b[0;34m\u001b[0m\u001b[0m\n\u001b[1;32m      5\u001b[0m \u001b[0mwarnings\u001b[0m\u001b[0;34m.\u001b[0m\u001b[0msimplefilter\u001b[0m\u001b[0;34m(\u001b[0m\u001b[0;34m'ignore'\u001b[0m\u001b[0;34m)\u001b[0m\u001b[0;34m\u001b[0m\u001b[0;34m\u001b[0m\u001b[0m\n",
      "\u001b[0;32m~/opt/anaconda3/lib/python3.9/site-packages/pandas/__init__.py\u001b[0m in \u001b[0;36m<module>\u001b[0;34m\u001b[0m\n\u001b[1;32m     48\u001b[0m \u001b[0;32mimport\u001b[0m \u001b[0mpandas\u001b[0m\u001b[0;34m.\u001b[0m\u001b[0mcore\u001b[0m\u001b[0;34m.\u001b[0m\u001b[0mconfig_init\u001b[0m\u001b[0;34m\u001b[0m\u001b[0;34m\u001b[0m\u001b[0m\n\u001b[1;32m     49\u001b[0m \u001b[0;34m\u001b[0m\u001b[0m\n\u001b[0;32m---> 50\u001b[0;31m from pandas.core.api import (\n\u001b[0m\u001b[1;32m     51\u001b[0m     \u001b[0;31m# dtype\u001b[0m\u001b[0;34m\u001b[0m\u001b[0;34m\u001b[0m\u001b[0m\n\u001b[1;32m     52\u001b[0m     \u001b[0mInt8Dtype\u001b[0m\u001b[0;34m,\u001b[0m\u001b[0;34m\u001b[0m\u001b[0;34m\u001b[0m\u001b[0m\n",
      "\u001b[0;32m~/opt/anaconda3/lib/python3.9/site-packages/pandas/core/api.py\u001b[0m in \u001b[0;36m<module>\u001b[0;34m\u001b[0m\n\u001b[1;32m     46\u001b[0m \u001b[0;32mfrom\u001b[0m \u001b[0mpandas\u001b[0m\u001b[0;34m.\u001b[0m\u001b[0mcore\u001b[0m\u001b[0;34m.\u001b[0m\u001b[0mconstruction\u001b[0m \u001b[0;32mimport\u001b[0m \u001b[0marray\u001b[0m\u001b[0;34m\u001b[0m\u001b[0;34m\u001b[0m\u001b[0m\n\u001b[1;32m     47\u001b[0m \u001b[0;32mfrom\u001b[0m \u001b[0mpandas\u001b[0m\u001b[0;34m.\u001b[0m\u001b[0mcore\u001b[0m\u001b[0;34m.\u001b[0m\u001b[0mflags\u001b[0m \u001b[0;32mimport\u001b[0m \u001b[0mFlags\u001b[0m\u001b[0;34m\u001b[0m\u001b[0;34m\u001b[0m\u001b[0m\n\u001b[0;32m---> 48\u001b[0;31m from pandas.core.groupby import (\n\u001b[0m\u001b[1;32m     49\u001b[0m     \u001b[0mGrouper\u001b[0m\u001b[0;34m,\u001b[0m\u001b[0;34m\u001b[0m\u001b[0;34m\u001b[0m\u001b[0m\n\u001b[1;32m     50\u001b[0m     \u001b[0mNamedAgg\u001b[0m\u001b[0;34m,\u001b[0m\u001b[0;34m\u001b[0m\u001b[0;34m\u001b[0m\u001b[0m\n",
      "\u001b[0;32m~/opt/anaconda3/lib/python3.9/site-packages/pandas/core/groupby/__init__.py\u001b[0m in \u001b[0;36m<module>\u001b[0;34m\u001b[0m\n\u001b[0;32m----> 1\u001b[0;31m from pandas.core.groupby.generic import (\n\u001b[0m\u001b[1;32m      2\u001b[0m     \u001b[0mDataFrameGroupBy\u001b[0m\u001b[0;34m,\u001b[0m\u001b[0;34m\u001b[0m\u001b[0;34m\u001b[0m\u001b[0m\n\u001b[1;32m      3\u001b[0m     \u001b[0mNamedAgg\u001b[0m\u001b[0;34m,\u001b[0m\u001b[0;34m\u001b[0m\u001b[0;34m\u001b[0m\u001b[0m\n\u001b[1;32m      4\u001b[0m     \u001b[0mSeriesGroupBy\u001b[0m\u001b[0;34m,\u001b[0m\u001b[0;34m\u001b[0m\u001b[0;34m\u001b[0m\u001b[0m\n\u001b[1;32m      5\u001b[0m )\n",
      "\u001b[0;32m~/opt/anaconda3/lib/python3.9/site-packages/pandas/core/groupby/generic.py\u001b[0m in \u001b[0;36m<module>\u001b[0;34m\u001b[0m\n\u001b[1;32m     71\u001b[0m \u001b[0;32mimport\u001b[0m \u001b[0mpandas\u001b[0m\u001b[0;34m.\u001b[0m\u001b[0mcore\u001b[0m\u001b[0;34m.\u001b[0m\u001b[0mcommon\u001b[0m \u001b[0;32mas\u001b[0m \u001b[0mcom\u001b[0m\u001b[0;34m\u001b[0m\u001b[0;34m\u001b[0m\u001b[0m\n\u001b[1;32m     72\u001b[0m \u001b[0;32mfrom\u001b[0m \u001b[0mpandas\u001b[0m\u001b[0;34m.\u001b[0m\u001b[0mcore\u001b[0m\u001b[0;34m.\u001b[0m\u001b[0mconstruction\u001b[0m \u001b[0;32mimport\u001b[0m \u001b[0mcreate_series_with_explicit_dtype\u001b[0m\u001b[0;34m\u001b[0m\u001b[0;34m\u001b[0m\u001b[0m\n\u001b[0;32m---> 73\u001b[0;31m \u001b[0;32mfrom\u001b[0m \u001b[0mpandas\u001b[0m\u001b[0;34m.\u001b[0m\u001b[0mcore\u001b[0m\u001b[0;34m.\u001b[0m\u001b[0mframe\u001b[0m \u001b[0;32mimport\u001b[0m \u001b[0mDataFrame\u001b[0m\u001b[0;34m\u001b[0m\u001b[0;34m\u001b[0m\u001b[0m\n\u001b[0m\u001b[1;32m     74\u001b[0m \u001b[0;32mfrom\u001b[0m \u001b[0mpandas\u001b[0m\u001b[0;34m.\u001b[0m\u001b[0mcore\u001b[0m\u001b[0;34m.\u001b[0m\u001b[0mgeneric\u001b[0m \u001b[0;32mimport\u001b[0m \u001b[0mNDFrame\u001b[0m\u001b[0;34m\u001b[0m\u001b[0;34m\u001b[0m\u001b[0m\n\u001b[1;32m     75\u001b[0m \u001b[0;32mfrom\u001b[0m \u001b[0mpandas\u001b[0m\u001b[0;34m.\u001b[0m\u001b[0mcore\u001b[0m\u001b[0;34m.\u001b[0m\u001b[0mgroupby\u001b[0m \u001b[0;32mimport\u001b[0m \u001b[0mbase\u001b[0m\u001b[0;34m\u001b[0m\u001b[0;34m\u001b[0m\u001b[0m\n",
      "\u001b[0;32m~/opt/anaconda3/lib/python3.9/site-packages/pandas/core/frame.py\u001b[0m in \u001b[0;36m<module>\u001b[0;34m\u001b[0m\n\u001b[1;32m    127\u001b[0m )\n\u001b[1;32m    128\u001b[0m \u001b[0;34m\u001b[0m\u001b[0m\n\u001b[0;32m--> 129\u001b[0;31m from pandas.core import (\n\u001b[0m\u001b[1;32m    130\u001b[0m     \u001b[0malgorithms\u001b[0m\u001b[0;34m,\u001b[0m\u001b[0;34m\u001b[0m\u001b[0;34m\u001b[0m\u001b[0m\n\u001b[1;32m    131\u001b[0m     \u001b[0mcommon\u001b[0m \u001b[0;32mas\u001b[0m \u001b[0mcom\u001b[0m\u001b[0;34m,\u001b[0m\u001b[0;34m\u001b[0m\u001b[0;34m\u001b[0m\u001b[0m\n",
      "\u001b[0;32m~/opt/anaconda3/lib/python3.9/site-packages/pandas/core/generic.py\u001b[0m in \u001b[0;36m<module>\u001b[0;34m\u001b[0m\n\u001b[1;32m    189\u001b[0m \u001b[0;34m\u001b[0m\u001b[0m\n\u001b[1;32m    190\u001b[0m \u001b[0;34m\u001b[0m\u001b[0m\n\u001b[0;32m--> 191\u001b[0;31m \u001b[0;32mclass\u001b[0m \u001b[0mNDFrame\u001b[0m\u001b[0;34m(\u001b[0m\u001b[0mPandasObject\u001b[0m\u001b[0;34m,\u001b[0m \u001b[0mindexing\u001b[0m\u001b[0;34m.\u001b[0m\u001b[0mIndexingMixin\u001b[0m\u001b[0;34m)\u001b[0m\u001b[0;34m:\u001b[0m\u001b[0;34m\u001b[0m\u001b[0;34m\u001b[0m\u001b[0m\n\u001b[0m\u001b[1;32m    192\u001b[0m     \"\"\"\n\u001b[1;32m    193\u001b[0m     \u001b[0mN\u001b[0m\u001b[0;34m-\u001b[0m\u001b[0mdimensional\u001b[0m \u001b[0manalogue\u001b[0m \u001b[0mof\u001b[0m \u001b[0mDataFrame\u001b[0m\u001b[0;34m.\u001b[0m \u001b[0mStore\u001b[0m \u001b[0mmulti\u001b[0m\u001b[0;34m-\u001b[0m\u001b[0mdimensional\u001b[0m \u001b[0;32min\u001b[0m \u001b[0ma\u001b[0m\u001b[0;34m\u001b[0m\u001b[0;34m\u001b[0m\u001b[0m\n",
      "\u001b[0;32m~/opt/anaconda3/lib/python3.9/site-packages/pandas/core/generic.py\u001b[0m in \u001b[0;36mNDFrame\u001b[0;34m()\u001b[0m\n\u001b[1;32m   3297\u001b[0m     \u001b[0;34m@\u001b[0m\u001b[0mfinal\u001b[0m\u001b[0;34m\u001b[0m\u001b[0;34m\u001b[0m\u001b[0m\n\u001b[1;32m   3298\u001b[0m     \u001b[0;34m@\u001b[0m\u001b[0mdoc\u001b[0m\u001b[0;34m(\u001b[0m\u001b[0mstorage_options\u001b[0m\u001b[0;34m=\u001b[0m\u001b[0m_shared_docs\u001b[0m\u001b[0;34m[\u001b[0m\u001b[0;34m\"storage_options\"\u001b[0m\u001b[0;34m]\u001b[0m\u001b[0;34m)\u001b[0m\u001b[0;34m\u001b[0m\u001b[0;34m\u001b[0m\u001b[0m\n\u001b[0;32m-> 3299\u001b[0;31m     def to_csv(\n\u001b[0m\u001b[1;32m   3300\u001b[0m         \u001b[0mself\u001b[0m\u001b[0;34m,\u001b[0m\u001b[0;34m\u001b[0m\u001b[0;34m\u001b[0m\u001b[0m\n\u001b[1;32m   3301\u001b[0m         \u001b[0mpath_or_buf\u001b[0m\u001b[0;34m:\u001b[0m \u001b[0mFilePathOrBuffer\u001b[0m\u001b[0;34m[\u001b[0m\u001b[0mAnyStr\u001b[0m\u001b[0;34m]\u001b[0m \u001b[0;34m|\u001b[0m \u001b[0;32mNone\u001b[0m \u001b[0;34m=\u001b[0m \u001b[0;32mNone\u001b[0m\u001b[0;34m,\u001b[0m\u001b[0;34m\u001b[0m\u001b[0;34m\u001b[0m\u001b[0m\n",
      "\u001b[0;32m~/opt/anaconda3/lib/python3.9/site-packages/pandas/util/_decorators.py\u001b[0m in \u001b[0;36mdecorator\u001b[0;34m(decorated)\u001b[0m\n\u001b[1;32m    370\u001b[0m         \u001b[0mdocstring_components\u001b[0m\u001b[0;34m:\u001b[0m \u001b[0mlist\u001b[0m\u001b[0;34m[\u001b[0m\u001b[0mstr\u001b[0m \u001b[0;34m|\u001b[0m \u001b[0mCallable\u001b[0m\u001b[0;34m]\u001b[0m \u001b[0;34m=\u001b[0m \u001b[0;34m[\u001b[0m\u001b[0;34m]\u001b[0m\u001b[0;34m\u001b[0m\u001b[0;34m\u001b[0m\u001b[0m\n\u001b[1;32m    371\u001b[0m         \u001b[0;32mif\u001b[0m \u001b[0mdecorated\u001b[0m\u001b[0;34m.\u001b[0m\u001b[0m__doc__\u001b[0m\u001b[0;34m:\u001b[0m\u001b[0;34m\u001b[0m\u001b[0;34m\u001b[0m\u001b[0m\n\u001b[0;32m--> 372\u001b[0;31m             \u001b[0mdocstring_components\u001b[0m\u001b[0;34m.\u001b[0m\u001b[0mappend\u001b[0m\u001b[0;34m(\u001b[0m\u001b[0mdedent\u001b[0m\u001b[0;34m(\u001b[0m\u001b[0mdecorated\u001b[0m\u001b[0;34m.\u001b[0m\u001b[0m__doc__\u001b[0m\u001b[0;34m)\u001b[0m\u001b[0;34m)\u001b[0m\u001b[0;34m\u001b[0m\u001b[0;34m\u001b[0m\u001b[0m\n\u001b[0m\u001b[1;32m    373\u001b[0m \u001b[0;34m\u001b[0m\u001b[0m\n\u001b[1;32m    374\u001b[0m         \u001b[0;32mfor\u001b[0m \u001b[0mdocstring\u001b[0m \u001b[0;32min\u001b[0m \u001b[0mdocstrings\u001b[0m\u001b[0;34m:\u001b[0m\u001b[0;34m\u001b[0m\u001b[0;34m\u001b[0m\u001b[0m\n",
      "\u001b[0;32m~/opt/anaconda3/lib/python3.9/textwrap.py\u001b[0m in \u001b[0;36mdedent\u001b[0;34m(text)\u001b[0m\n\u001b[1;32m    428\u001b[0m     \u001b[0;31m# all lines.\u001b[0m\u001b[0;34m\u001b[0m\u001b[0;34m\u001b[0m\u001b[0m\n\u001b[1;32m    429\u001b[0m     \u001b[0mmargin\u001b[0m \u001b[0;34m=\u001b[0m \u001b[0;32mNone\u001b[0m\u001b[0;34m\u001b[0m\u001b[0;34m\u001b[0m\u001b[0m\n\u001b[0;32m--> 430\u001b[0;31m     \u001b[0mtext\u001b[0m \u001b[0;34m=\u001b[0m \u001b[0m_whitespace_only_re\u001b[0m\u001b[0;34m.\u001b[0m\u001b[0msub\u001b[0m\u001b[0;34m(\u001b[0m\u001b[0;34m''\u001b[0m\u001b[0;34m,\u001b[0m \u001b[0mtext\u001b[0m\u001b[0;34m)\u001b[0m\u001b[0;34m\u001b[0m\u001b[0;34m\u001b[0m\u001b[0m\n\u001b[0m\u001b[1;32m    431\u001b[0m     \u001b[0mindents\u001b[0m \u001b[0;34m=\u001b[0m \u001b[0m_leading_whitespace_re\u001b[0m\u001b[0;34m.\u001b[0m\u001b[0mfindall\u001b[0m\u001b[0;34m(\u001b[0m\u001b[0mtext\u001b[0m\u001b[0;34m)\u001b[0m\u001b[0;34m\u001b[0m\u001b[0;34m\u001b[0m\u001b[0m\n\u001b[1;32m    432\u001b[0m     \u001b[0;32mfor\u001b[0m \u001b[0mindent\u001b[0m \u001b[0;32min\u001b[0m \u001b[0mindents\u001b[0m\u001b[0;34m:\u001b[0m\u001b[0;34m\u001b[0m\u001b[0;34m\u001b[0m\u001b[0m\n",
      "\u001b[0;31mKeyboardInterrupt\u001b[0m: "
     ]
    }
   ],
   "source": [
    "import pandas as pd \n",
    "pd.set_option('display.max_columns', None)\n",
    "pd.set_option('display.max_rows', None)\n",
    "import warnings\n",
    "warnings.simplefilter('ignore')\n",
    "import datetime"
   ]
  },
  {
   "cell_type": "code",
   "execution_count": null,
   "id": "19425a83",
   "metadata": {},
   "outputs": [],
   "source": [
    "df=pd.read_csv('../data/results.csv')"
   ]
  },
  {
   "cell_type": "code",
   "execution_count": null,
   "id": "c82b7b7e",
   "metadata": {},
   "outputs": [],
   "source": [
    "df.head()"
   ]
  },
  {
   "cell_type": "code",
   "execution_count": null,
   "id": "8eba9d6a",
   "metadata": {},
   "outputs": [],
   "source": [
    "df.shape"
   ]
  },
  {
   "cell_type": "code",
   "execution_count": null,
   "id": "1fa6d726",
   "metadata": {},
   "outputs": [],
   "source": [
    "def dataframe_cleaning(df):\n",
    "    ''' Changing date to year in order to work with years '''\n",
    "    df2['date'] = df['date'].astype('datetime64')\n",
    "    df2['date'] = df['date'].dt.year\n",
    "    df2.rename(columns = {'date':'year'}, inplace = True)\n",
    "    return df2"
   ]
  },
  {
   "cell_type": "code",
   "execution_count": null,
   "id": "567b8ef9",
   "metadata": {},
   "outputs": [],
   "source": [
    "##def drop(df):\n",
    "   ## ''' As [tournament],[neutral],[city] and [country] columns are not interesting for our purpose, we'll drop them '''\n",
    "   ## df.drop(columns =['tournament','neutral','city','country'], inplace=True)\n",
    "   ## return df##\n",
    "#    df2 = df.drop(columns =['neutral'], inplace=True) "
   ]
  },
  {
   "cell_type": "code",
   "execution_count": null,
   "id": "3a85f7d0",
   "metadata": {},
   "outputs": [],
   "source": [
    "def drop22(df):\n",
    "    ''' Changing date to year in order to work with years '''\n",
    "    df.drop(['neutral'],axis=1,inplace=True)\n",
    "    return df"
   ]
  },
  {
   "cell_type": "code",
   "execution_count": null,
   "id": "9b1cf774",
   "metadata": {},
   "outputs": [],
   "source": [
    "def drops(df):\n",
    "    ''' Changing date to year in order to work with years '''\n",
    "    df = df.drop(columns =['neutral'], inplace=True) \n",
    "    return df "
   ]
  },
  {
   "cell_type": "code",
   "execution_count": null,
   "id": "96cfd1cc",
   "metadata": {},
   "outputs": [],
   "source": [
    "df.dtypes"
   ]
  },
  {
   "cell_type": "code",
   "execution_count": null,
   "id": "b0f4385a",
   "metadata": {},
   "outputs": [],
   "source": [
    "df.head()"
   ]
  },
  {
   "cell_type": "code",
   "execution_count": null,
   "id": "90b0b53b",
   "metadata": {},
   "outputs": [],
   "source": [
    "df = df.drop('neutral',axis=1)"
   ]
  },
  {
   "cell_type": "code",
   "execution_count": null,
   "id": "be80e333",
   "metadata": {},
   "outputs": [],
   "source": [
    "df =df.loc[df[\"year\"].between(2000, 2021)]\n",
    "df.reset_index(drop=True, inplace=True)\n",
    "df.head(5)"
   ]
  },
  {
   "cell_type": "code",
   "execution_count": null,
   "id": "6240fa23",
   "metadata": {},
   "outputs": [],
   "source": [
    "df['result']=df.home_score - df.away_score"
   ]
  },
  {
   "cell_type": "code",
   "execution_count": null,
   "id": "ccdf7f2a",
   "metadata": {},
   "outputs": [],
   "source": [
    "df.result=df.result.apply(ganar)"
   ]
  },
  {
   "cell_type": "code",
   "execution_count": null,
   "id": "3eb81c5d",
   "metadata": {},
   "outputs": [],
   "source": [
    "df.head()"
   ]
  },
  {
   "cell_type": "code",
   "execution_count": null,
   "id": "944c015d",
   "metadata": {},
   "outputs": [],
   "source": [
    "df.dtypes"
   ]
  },
  {
   "cell_type": "code",
   "execution_count": null,
   "id": "8061d5b2",
   "metadata": {},
   "outputs": [],
   "source": [
    "df['winner'] = pd.Series(dtype='str')\n",
    "df.winner = df.apply(lambda x : x['home_team'] if x['home_score'] > x['away_score'] \n",
    "                                              else (x['away_team'] if x['home_score'] < x['away_score'] else 'draw'),\n",
    "                                              axis=1)\n",
    "df.head()"
   ]
  },
  {
   "cell_type": "code",
   "execution_count": null,
   "id": "07e486f2",
   "metadata": {},
   "outputs": [],
   "source": [
    "df2 = df[['year', 'winner']].copy()"
   ]
  },
  {
   "cell_type": "code",
   "execution_count": null,
   "id": "77481adf",
   "metadata": {},
   "outputs": [],
   "source": [
    "df2 = df[['date', 'winner']].copy()"
   ]
  },
  {
   "cell_type": "code",
   "execution_count": null,
   "id": "3bbeacae",
   "metadata": {},
   "outputs": [],
   "source": [
    "df2"
   ]
  },
  {
   "cell_type": "code",
   "execution_count": null,
   "id": "f5fe7b09",
   "metadata": {},
   "outputs": [],
   "source": [
    "moda = pd.crosstab(index=matriz, columns=\"count\").to_numpy().max() "
   ]
  },
  {
   "cell_type": "code",
   "execution_count": null,
   "id": "b1ef2299",
   "metadata": {},
   "outputs": [],
   "source": [
    "df2.to_csv('./data/df2.csv', index=False)"
   ]
  },
  {
   "cell_type": "code",
   "execution_count": null,
   "id": "df82c402",
   "metadata": {},
   "outputs": [],
   "source": [
    "## not used .... df['points'] = pd.Series(dtype='int')"
   ]
  },
  {
   "cell_type": "markdown",
   "id": "ecf0d231",
   "metadata": {},
   "source": [
    "# SCRAPING"
   ]
  },
  {
   "cell_type": "markdown",
   "id": "5735dd6c",
   "metadata": {},
   "source": [
    "## Method: Selenium"
   ]
  },
  {
   "cell_type": "code",
   "execution_count": null,
   "id": "5ecd48c7",
   "metadata": {},
   "outputs": [],
   "source": [
    "%pip install selenium\n",
    "from selenium import webdriver"
   ]
  },
  {
   "cell_type": "code",
   "execution_count": null,
   "id": "492c4cc0",
   "metadata": {},
   "outputs": [],
   "source": [
    "%pip install webdriver-manager\n",
    "from webdriver_manager.chrome import ChromeDriverManager"
   ]
  },
  {
   "cell_type": "code",
   "execution_count": null,
   "id": "3abbf772",
   "metadata": {},
   "outputs": [],
   "source": [
    "from selenium.webdriver.chrome.options import Options\n",
    "\n",
    "opciones=Options()\n",
    "\n",
    "opciones.add_experimental_option('excludeSwitches', ['enable-automation'])\n",
    "opciones.add_experimental_option('useAutomationExtension', False)\n",
    "opciones.headless=False    # si True, no aperece la ventana (headless=no visible)\n",
    "opciones.add_argument('--start-maximized')         # comienza maximizado\n",
    "opciones.add_argument('user-data-dir=selenium')    # mantiene las cookies\n",
    "opciones.add_extension('../driver/adblock.crx')       # adblocker\n",
    "opciones.add_argument('--incognito')"
   ]
  },
  {
   "cell_type": "code",
   "execution_count": null,
   "id": "a86fe1dd",
   "metadata": {},
   "outputs": [],
   "source": [
    "PATH=ChromeDriverManager().install()\n",
    "URL='https://www.goal.com/en-in/news/fifa-womens-world-player-of-the-year-award-winners/blt12683887fe8df959'\n",
    "driver=webdriver.Chrome(PATH)\n",
    "driver.get(URL)"
   ]
  },
  {
   "cell_type": "code",
   "execution_count": null,
   "id": "d0d6fc4a",
   "metadata": {},
   "outputs": [],
   "source": [
    "acepto=driver.find_element_by_xpath('//*[@id=\"onetrust-accept-btn-handler\"]')\n",
    "\n",
    "acepto.click()"
   ]
  },
  {
   "cell_type": "code",
   "execution_count": null,
   "id": "42d7befe",
   "metadata": {},
   "outputs": [],
   "source": [
    "tabla = driver.find_element_by_xpath('//*[@id=\"__next\"]/div/main/div/div/article/main/div[3]/div/div[4]')\n",
    "\n",
    "players = tabla.find_elements_by_tag_name('tr')\n",
    "\n",
    "players"
   ]
  },
  {
   "cell_type": "code",
   "execution_count": null,
   "id": "82c8f091",
   "metadata": {},
   "outputs": [],
   "source": [
    "lst = []\n",
    "for i in players:\n",
    "    i = i.text.replace('\\n', ',,,').replace('  ', ',,,').split(',,,')\n",
    "    lst.append(i)\n",
    "lst"
   ]
  },
  {
   "cell_type": "code",
   "execution_count": null,
   "id": "090ed8e4",
   "metadata": {},
   "outputs": [],
   "source": [
    "import pandas as pd\n",
    "\n",
    "col_names=lst[0]\n",
    "\n",
    "data=lst[1:]\n",
    "\n",
    "df3=pd.DataFrame(data, columns=col_names)\n",
    "\n",
    "df3.head()"
   ]
  },
  {
   "cell_type": "code",
   "execution_count": null,
   "id": "9fb41c3b",
   "metadata": {},
   "outputs": [],
   "source": [
    "df3['Club']=[c.replace('Carolina Courage/Birgit Prinz', 'FFC Frankfurt') for c in df3.Club]\n",
    "\n",
    "df3"
   ]
  },
  {
   "cell_type": "markdown",
   "id": "9bf3846c",
   "metadata": {},
   "source": [
    "## BEAUTIFUL SOUP"
   ]
  },
  {
   "cell_type": "code",
   "execution_count": null,
   "id": "1ec7cc5f",
   "metadata": {},
   "outputs": [],
   "source": [
    "import requests as req\n",
    "\n",
    "from bs4 import BeautifulSoup as bs\n",
    "url='https://www.topendsports.com/sport/soccer/list-player-of-the-year-women.htm'\n",
    "html=req.get(url).content\n",
    "\n",
    "html[:1000]"
   ]
  },
  {
   "cell_type": "code",
   "execution_count": null,
   "id": "0a448c23",
   "metadata": {},
   "outputs": [],
   "source": [
    "soup=bs(html, 'html.parser')\n",
    "\n",
    "tabla=soup.find('div',{'class':'table-responsive'})\n",
    "tabla\n",
    "type(tabla)"
   ]
  },
  {
   "cell_type": "code",
   "execution_count": null,
   "id": "3486cf0c",
   "metadata": {},
   "outputs": [],
   "source": [
    "tabla2=tabla.find('table',{'class':'list'})\n",
    "tabla2"
   ]
  },
  {
   "cell_type": "code",
   "execution_count": null,
   "id": "f80ab648",
   "metadata": {},
   "outputs": [],
   "source": [
    "filas=tabla2.find_all('tr')\n",
    "\n",
    "filas=[f.text.strip().split('\\n') for f in filas]"
   ]
  },
  {
   "cell_type": "code",
   "execution_count": null,
   "id": "1c119bbf",
   "metadata": {},
   "outputs": [],
   "source": [
    "col_names=filas[0]\n",
    "\n",
    "data=filas[1:]\n",
    "\n",
    "df4=pd.DataFrame(data, columns=col_names)\n",
    "\n",
    "df4.head()"
   ]
  },
  {
   "cell_type": "code",
   "execution_count": null,
   "id": "60f2d8c4",
   "metadata": {},
   "outputs": [],
   "source": [
    "df4 = df4.rename(str.title, axis='columns')\n",
    "df4.head(1)"
   ]
  },
  {
   "cell_type": "code",
   "execution_count": null,
   "id": "b13ab3d5",
   "metadata": {},
   "outputs": [],
   "source": [
    "df4 = df4.sort_values(by = ['Year'], ascending=True).reset_index().drop('index',axis=1)\n",
    "df4.head()"
   ]
  },
  {
   "cell_type": "code",
   "execution_count": null,
   "id": "9eb8d048",
   "metadata": {},
   "outputs": [],
   "source": [
    "df4['Player']=[c.replace('Nadine Keßler', 'Nadine Kebler') for c in df4.Player]\n",
    "\n",
    "df4['Player'] = df4['Player'].apply(lambda x: x.strip())\n",
    "df4"
   ]
  },
  {
   "cell_type": "code",
   "execution_count": null,
   "id": "27f5d861",
   "metadata": {
    "scrolled": false
   },
   "outputs": [],
   "source": [
    "df5 = pd.merge(df3,df4,how=\"inner\")\n",
    "df5"
   ]
  },
  {
   "cell_type": "code",
   "execution_count": null,
   "id": "3876e47b",
   "metadata": {},
   "outputs": [],
   "source": [
    "df5['Nationality']=[c.replace('USA', 'United States') for c in df5.Nationality]\n",
    "df5['Nationality']=[c.replace('The Netherlands', 'Netherlands') for c in df5.Nationality]"
   ]
  },
  {
   "cell_type": "code",
   "execution_count": null,
   "id": "de2c03c2",
   "metadata": {},
   "outputs": [],
   "source": [
    "df5['Club'].value_counts()"
   ]
  },
  {
   "cell_type": "code",
   "execution_count": null,
   "id": "dfa7fb39",
   "metadata": {},
   "outputs": [],
   "source": [
    "df5"
   ]
  },
  {
   "cell_type": "code",
   "execution_count": null,
   "id": "82efbdd5",
   "metadata": {},
   "outputs": [],
   "source": [
    "df5.to_csv('./data/players.csv', index=False)"
   ]
  },
  {
   "cell_type": "markdown",
   "id": "151b7ff8",
   "metadata": {},
   "source": [
    "# Selenium"
   ]
  },
  {
   "cell_type": "code",
   "execution_count": null,
   "id": "2093c6bc",
   "metadata": {},
   "outputs": [],
   "source": [
    "PATH=ChromeDriverManager().install()\n",
    "URL='https://www.worldfootball.net/winner/frauen-champions-league/'\n",
    "driver=webdriver.Chrome(PATH)\n",
    "driver.get(URL)\n",
    "\n",
    "acepto=driver.find_element_by_xpath('//*[@id=\"qc-cmp2-ui\"]/div[2]/div/button[2]')\n",
    "acepto.click()"
   ]
  },
  {
   "cell_type": "code",
   "execution_count": null,
   "id": "db068cf7",
   "metadata": {},
   "outputs": [],
   "source": [
    "tabla = driver.find_element_by_xpath('//*[@id=\"site\"]/div[2]/div[1]/div[1]')\n",
    "tabla"
   ]
  },
  {
   "cell_type": "code",
   "execution_count": null,
   "id": "f6f33cae",
   "metadata": {},
   "outputs": [],
   "source": [
    "players = tabla.find_elements_by_tag_name('tr')\n",
    "players"
   ]
  },
  {
   "cell_type": "code",
   "execution_count": null,
   "id": "2a00211e",
   "metadata": {},
   "outputs": [],
   "source": [
    "lst = []\n",
    "\n",
    "for i in players:\n",
    "    i = i.text.replace('\\n', ',').replace('   ', ',,,').split(' ')\n",
    "    lst.append(i)\n",
    "lst\n",
    "\n",
    "lst[0].append('a')\n",
    "lst[0].append('b')\n",
    "lst"
   ]
  },
  {
   "cell_type": "code",
   "execution_count": null,
   "id": "42a19fee",
   "metadata": {},
   "outputs": [],
   "source": [
    "col_names=lst[0]\n",
    "\n",
    "data=lst[1:]\n",
    "\n",
    "cham=pd.DataFrame(data, columns=col_names)\n",
    "\n",
    "cham"
   ]
  },
  {
   "cell_type": "code",
   "execution_count": null,
   "id": "da32fc79",
   "metadata": {},
   "outputs": [],
   "source": [
    "cham[\"Champion\"] = cham[\"Winner\"] + \" \" + cham[\"Country\"]\n",
    "cham"
   ]
  },
  {
   "cell_type": "code",
   "execution_count": null,
   "id": "fb3e3325",
   "metadata": {},
   "outputs": [],
   "source": [
    "cham['Champion']=[c.replace('1. FFC', 'FFC Frankfurt') for c in cham.Champion]\n",
    "cham['Champion']=[c.replace('1.', 'FFC Frankfurt') for c in cham.Champion]\n",
    "cham = cham.drop(['Winner','Country'], axis=1)\n",
    "cham.head()"
   ]
  },
  {
   "cell_type": "code",
   "execution_count": null,
   "id": "9f2a53e3",
   "metadata": {},
   "outputs": [],
   "source": [
    "cham['a']=[c.replace('Frankfurt', 'Germany') for c in cham.a]\n",
    "cham['a']=[c.replace('Duisburg', 'Germany') for c in cham.a]\n",
    "cham['a']=[c.replace('FF', 'Sweden') for c in cham.a]\n",
    "cham = cham.drop('b', axis=1)\n",
    "cham.head()"
   ]
  },
  {
   "cell_type": "code",
   "execution_count": null,
   "id": "5f597987",
   "metadata": {},
   "outputs": [],
   "source": [
    "cham.rename(columns = {'a':'Country'}, inplace = True)\n",
    "cham = cham.sort_values(by = ['Year'], ascending=True).reset_index().drop('index',axis=1)\n",
    "cham['Champion']=[c.replace('Umeå IK', 'Umea IK') for c in cham.Champion]\n",
    "cham['Champion']=[c.replace('VfL Wolfsburg', 'Wolfsburg') for c in cham.Champion]\n",
    "cham"
   ]
  },
  {
   "cell_type": "code",
   "execution_count": null,
   "id": "0006c111",
   "metadata": {},
   "outputs": [],
   "source": [
    "cham.to_csv('./data/champions.csv', index=False)"
   ]
  }
 ],
 "metadata": {
  "kernelspec": {
   "display_name": "Python 3 (ipykernel)",
   "language": "python",
   "name": "python3"
  },
  "language_info": {
   "codemirror_mode": {
    "name": "ipython",
    "version": 3
   },
   "file_extension": ".py",
   "mimetype": "text/x-python",
   "name": "python",
   "nbconvert_exporter": "python",
   "pygments_lexer": "ipython3",
   "version": "3.9.7"
  }
 },
 "nbformat": 4,
 "nbformat_minor": 5
}
