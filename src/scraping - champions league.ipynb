{
 "cells": [
  {
   "cell_type": "markdown",
   "id": "304a82f4",
   "metadata": {},
   "source": [
    "'''We need to extract a list with all Champions League winners,\n",
    "for this purpose Selenium scraping will be used'''"
   ]
  },
  {
   "cell_type": "code",
   "execution_count": null,
   "id": "a3b02ac8",
   "metadata": {},
   "outputs": [],
   "source": [
    "%pip install selenium\n",
    "from selenium import webdriver"
   ]
  },
  {
   "cell_type": "code",
   "execution_count": null,
   "id": "4eb388f1",
   "metadata": {},
   "outputs": [],
   "source": [
    "%pip install webdriver-manager\n",
    "from webdriver_manager.chrome import ChromeDriverManager"
   ]
  },
  {
   "cell_type": "code",
   "execution_count": null,
   "id": "9c2804d1",
   "metadata": {},
   "outputs": [],
   "source": [
    "from selenium.webdriver.chrome.options import Options\n",
    "\n",
    "opciones=Options()\n",
    "\n",
    "opciones.add_experimental_option('excludeSwitches', ['enable-automation'])\n",
    "opciones.add_experimental_option('useAutomationExtension', False)\n",
    "opciones.headless=False    # si True, no aperece la ventana (headless=no visible)\n",
    "opciones.add_argument('--start-maximized')         # comienza maximizado\n",
    "opciones.add_argument('user-data-dir=selenium')    # mantiene las cookies\n",
    "opciones.add_extension('../driver/adblock.crx')       # adblocker\n",
    "opciones.add_argument('--incognito')"
   ]
  },
  {
   "cell_type": "code",
   "execution_count": null,
   "id": "147defdc",
   "metadata": {},
   "outputs": [],
   "source": [
    "PATH=ChromeDriverManager().install()\n",
    "URL='https://www.worldfootball.net/winner/frauen-champions-league/'\n",
    "driver=webdriver.Chrome(PATH)\n",
    "driver.get(URL)\n",
    "\n",
    "acepto=driver.find_element_by_xpath('//*[@id=\"qc-cmp2-ui\"]/div[2]/div/button[2]')\n",
    "acepto.click()"
   ]
  },
  {
   "cell_type": "code",
   "execution_count": null,
   "id": "b51b08c4",
   "metadata": {},
   "outputs": [],
   "source": [
    "table = driver.find_element_by_xpath('//*[@id=\"site\"]/div[2]/div[1]/div[1]')\n",
    "teams = table.find_elements_by_tag_name('tr')"
   ]
  },
  {
   "cell_type": "code",
   "execution_count": null,
   "id": "b4fcdea8",
   "metadata": {},
   "outputs": [],
   "source": [
    "lst = []\n",
    "\n",
    "for i in teams:\n",
    "    i = i.text.replace('\\n', ',').replace('   ', ',,,').split(' ')\n",
    "    lst.append(i)\n",
    "\n",
    "lst[0].append('a')\n",
    "lst[0].append('b')"
   ]
  },
  {
   "cell_type": "code",
   "execution_count": null,
   "id": "01ff7e83",
   "metadata": {},
   "outputs": [],
   "source": [
    "import pandas as pd\n",
    "import functions as fn"
   ]
  },
  {
   "cell_type": "code",
   "execution_count": null,
   "id": "4fb2ee57",
   "metadata": {},
   "outputs": [],
   "source": [
    "col_names=lst[0]\n",
    "data=lst[1:]\n",
    "cham=pd.DataFrame(data, columns=col_names)"
   ]
  },
  {
   "cell_type": "code",
   "execution_count": null,
   "id": "a9728ef2",
   "metadata": {},
   "outputs": [],
   "source": [
    "cham = fn.replacing(cham)"
   ]
  },
  {
   "cell_type": "code",
   "execution_count": null,
   "id": "b4ca0929",
   "metadata": {},
   "outputs": [],
   "source": [
    "cham"
   ]
  },
  {
   "cell_type": "code",
   "execution_count": null,
   "id": "f44c14c3",
   "metadata": {},
   "outputs": [],
   "source": [
    "cham.to_csv('./data/champions.csv', index=False)"
   ]
  }
 ],
 "metadata": {
  "kernelspec": {
   "display_name": "Python 3 (ipykernel)",
   "language": "python",
   "name": "python3"
  },
  "language_info": {
   "codemirror_mode": {
    "name": "ipython",
    "version": 3
   },
   "file_extension": ".py",
   "mimetype": "text/x-python",
   "name": "python",
   "nbconvert_exporter": "python",
   "pygments_lexer": "ipython3",
   "version": "3.9.7"
  }
 },
 "nbformat": 4,
 "nbformat_minor": 5
}
