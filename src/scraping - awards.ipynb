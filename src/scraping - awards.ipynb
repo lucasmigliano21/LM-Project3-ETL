{
 "cells": [
  {
   "cell_type": "markdown",
   "id": "8876b0aa",
   "metadata": {},
   "source": [
    "'''We need to extract a list with all 'the best' award winners,\n",
    "for this purpose Selenium scraping will be used'''"
   ]
  },
  {
   "cell_type": "code",
   "execution_count": 4,
   "id": "87096b30",
   "metadata": {},
   "outputs": [
    {
     "name": "stdout",
     "output_type": "stream",
     "text": [
      "Requirement already satisfied: selenium in /Users/lucasmigliano/opt/anaconda3/lib/python3.9/site-packages (4.1.3)\n",
      "Requirement already satisfied: trio~=0.17 in /Users/lucasmigliano/opt/anaconda3/lib/python3.9/site-packages (from selenium) (0.20.0)\n",
      "Requirement already satisfied: trio-websocket~=0.9 in /Users/lucasmigliano/opt/anaconda3/lib/python3.9/site-packages (from selenium) (0.9.2)\n",
      "Requirement already satisfied: urllib3[secure,socks]~=1.26 in /Users/lucasmigliano/opt/anaconda3/lib/python3.9/site-packages (from selenium) (1.26.7)\n",
      "Requirement already satisfied: async-generator>=1.9 in /Users/lucasmigliano/opt/anaconda3/lib/python3.9/site-packages (from trio~=0.17->selenium) (1.10)\n",
      "Requirement already satisfied: attrs>=19.2.0 in /Users/lucasmigliano/opt/anaconda3/lib/python3.9/site-packages (from trio~=0.17->selenium) (21.2.0)\n",
      "Requirement already satisfied: idna in /Users/lucasmigliano/opt/anaconda3/lib/python3.9/site-packages (from trio~=0.17->selenium) (3.2)\n",
      "Requirement already satisfied: sniffio in /Users/lucasmigliano/opt/anaconda3/lib/python3.9/site-packages (from trio~=0.17->selenium) (1.2.0)\n",
      "Requirement already satisfied: sortedcontainers in /Users/lucasmigliano/opt/anaconda3/lib/python3.9/site-packages (from trio~=0.17->selenium) (2.4.0)\n",
      "Requirement already satisfied: outcome in /Users/lucasmigliano/opt/anaconda3/lib/python3.9/site-packages (from trio~=0.17->selenium) (1.1.0)\n",
      "Requirement already satisfied: wsproto>=0.14 in /Users/lucasmigliano/opt/anaconda3/lib/python3.9/site-packages (from trio-websocket~=0.9->selenium) (1.1.0)\n",
      "Requirement already satisfied: PySocks!=1.5.7,<2.0,>=1.5.6 in /Users/lucasmigliano/opt/anaconda3/lib/python3.9/site-packages (from urllib3[secure,socks]~=1.26->selenium) (1.7.1)\n",
      "Requirement already satisfied: pyOpenSSL>=0.14 in /Users/lucasmigliano/opt/anaconda3/lib/python3.9/site-packages (from urllib3[secure,socks]~=1.26->selenium) (21.0.0)\n",
      "Requirement already satisfied: cryptography>=1.3.4 in /Users/lucasmigliano/opt/anaconda3/lib/python3.9/site-packages (from urllib3[secure,socks]~=1.26->selenium) (3.4.8)\n",
      "Requirement already satisfied: certifi in /Users/lucasmigliano/opt/anaconda3/lib/python3.9/site-packages (from urllib3[secure,socks]~=1.26->selenium) (2021.10.8)\n",
      "Requirement already satisfied: cffi>=1.12 in /Users/lucasmigliano/opt/anaconda3/lib/python3.9/site-packages (from cryptography>=1.3.4->urllib3[secure,socks]~=1.26->selenium) (1.14.6)\n",
      "Requirement already satisfied: pycparser in /Users/lucasmigliano/opt/anaconda3/lib/python3.9/site-packages (from cffi>=1.12->cryptography>=1.3.4->urllib3[secure,socks]~=1.26->selenium) (2.20)\n",
      "Requirement already satisfied: six>=1.5.2 in /Users/lucasmigliano/opt/anaconda3/lib/python3.9/site-packages (from pyOpenSSL>=0.14->urllib3[secure,socks]~=1.26->selenium) (1.16.0)\n",
      "Requirement already satisfied: h11<1,>=0.9.0 in /Users/lucasmigliano/opt/anaconda3/lib/python3.9/site-packages (from wsproto>=0.14->trio-websocket~=0.9->selenium) (0.13.0)\n",
      "Note: you may need to restart the kernel to use updated packages.\n"
     ]
    }
   ],
   "source": [
    "%pip install selenium\n",
    "from selenium import webdriver"
   ]
  },
  {
   "cell_type": "code",
   "execution_count": 5,
   "id": "4c08a9f2",
   "metadata": {},
   "outputs": [
    {
     "name": "stdout",
     "output_type": "stream",
     "text": [
      "Requirement already satisfied: webdriver-manager in /Users/lucasmigliano/opt/anaconda3/lib/python3.9/site-packages (3.5.4)\n",
      "Requirement already satisfied: requests in /Users/lucasmigliano/opt/anaconda3/lib/python3.9/site-packages (from webdriver-manager) (2.26.0)\n",
      "Requirement already satisfied: idna<4,>=2.5 in /Users/lucasmigliano/opt/anaconda3/lib/python3.9/site-packages (from requests->webdriver-manager) (3.2)\n",
      "Requirement already satisfied: charset-normalizer~=2.0.0 in /Users/lucasmigliano/opt/anaconda3/lib/python3.9/site-packages (from requests->webdriver-manager) (2.0.4)\n",
      "Requirement already satisfied: urllib3<1.27,>=1.21.1 in /Users/lucasmigliano/opt/anaconda3/lib/python3.9/site-packages (from requests->webdriver-manager) (1.26.7)\n",
      "Requirement already satisfied: certifi>=2017.4.17 in /Users/lucasmigliano/opt/anaconda3/lib/python3.9/site-packages (from requests->webdriver-manager) (2021.10.8)\n",
      "Note: you may need to restart the kernel to use updated packages.\n"
     ]
    }
   ],
   "source": [
    "%pip install webdriver-manager\n",
    "from webdriver_manager.chrome import ChromeDriverManager"
   ]
  },
  {
   "cell_type": "code",
   "execution_count": 7,
   "id": "460f94f9",
   "metadata": {},
   "outputs": [],
   "source": [
    "from selenium.webdriver.chrome.options import Options\n",
    "\n",
    "opciones=Options()\n",
    "\n",
    "opciones.add_experimental_option('excludeSwitches', ['enable-automation'])\n",
    "opciones.add_experimental_option('useAutomationExtension', False)\n",
    "opciones.headless=False    # si True, no aperece la ventana (headless=no visible)\n",
    "opciones.add_argument('--start-maximized')         # comienza maximizado\n",
    "opciones.add_argument('user-data-dir=selenium')    # mantiene las cookies\n",
    "opciones.add_extension('../driver/adblock.crx')       # adblocker\n",
    "opciones.add_argument('--incognito')"
   ]
  },
  {
   "cell_type": "markdown",
   "id": "124b55af",
   "metadata": {},
   "source": [
    "'''Loading the web page where data will be extracted from'''"
   ]
  },
  {
   "cell_type": "code",
   "execution_count": 36,
   "id": "8354985d",
   "metadata": {},
   "outputs": [
    {
     "name": "stderr",
     "output_type": "stream",
     "text": [
      "\n",
      "\n",
      "====== WebDriver manager ======\n",
      "Current google-chrome version is 100.0.4896\n",
      "Get LATEST chromedriver version for 100.0.4896 google-chrome\n",
      "Driver [/Users/lucasmigliano/.wdm/drivers/chromedriver/mac64/100.0.4896.60/chromedriver] found in cache\n",
      "/var/folders/y9/1ck368zx5tq778d5611f3syw0000gn/T/ipykernel_90683/4093940181.py:3: DeprecationWarning: executable_path has been deprecated, please pass in a Service object\n",
      "  driver=webdriver.Chrome(PATH)\n",
      "/var/folders/y9/1ck368zx5tq778d5611f3syw0000gn/T/ipykernel_90683/4093940181.py:5: DeprecationWarning: find_element_by_xpath is deprecated. Please use find_element(by=By.XPATH, value=xpath) instead\n",
      "  acepto=driver.find_element_by_xpath('//*[@id=\"onetrust-accept-btn-handler\"]')\n"
     ]
    }
   ],
   "source": [
    "PATH=ChromeDriverManager().install()\n",
    "URL='https://www.goal.com/en-in/news/fifa-womens-world-player-of-the-year-award-winners/blt12683887fe8df959'\n",
    "driver=webdriver.Chrome(PATH)\n",
    "driver.get(URL)\n",
    "acepto=driver.find_element_by_xpath('//*[@id=\"onetrust-accept-btn-handler\"]')\n",
    "acepto.click()"
   ]
  },
  {
   "cell_type": "markdown",
   "id": "4ed4a0ce",
   "metadata": {},
   "source": [
    "''' Scraping the table that has the data needed'''"
   ]
  },
  {
   "cell_type": "code",
   "execution_count": 37,
   "id": "fd2d8b61",
   "metadata": {},
   "outputs": [
    {
     "name": "stderr",
     "output_type": "stream",
     "text": [
      "/var/folders/y9/1ck368zx5tq778d5611f3syw0000gn/T/ipykernel_90683/1758699681.py:1: DeprecationWarning: find_element_by_xpath is deprecated. Please use find_element(by=By.XPATH, value=xpath) instead\n",
      "  table = driver.find_element_by_xpath('//*[@id=\"__next\"]/div/main/div/div/article/main/div[3]/div/div[4]')\n",
      "/Users/lucasmigliano/opt/anaconda3/lib/python3.9/site-packages/selenium/webdriver/remote/webelement.py:359: UserWarning: find_elements_by_tag_name is deprecated. Please use find_elements(by=By.TAG_NAME, value=name) instead\n",
      "  warnings.warn(\"find_elements_by_tag_name is deprecated. Please use find_elements(by=By.TAG_NAME, value=name) instead\")\n"
     ]
    },
    {
     "data": {
      "text/plain": [
       "[<selenium.webdriver.remote.webelement.WebElement (session=\"826df6485bc4a805c08bf5ccc6b3b5f3\", element=\"0f4fd12c-7397-4f70-bc00-8495282022a3\")>,\n",
       " <selenium.webdriver.remote.webelement.WebElement (session=\"826df6485bc4a805c08bf5ccc6b3b5f3\", element=\"4ae38125-6240-4921-86bf-82c11550738e\")>,\n",
       " <selenium.webdriver.remote.webelement.WebElement (session=\"826df6485bc4a805c08bf5ccc6b3b5f3\", element=\"a27713a5-ed5f-4504-8688-9b7c528bf8af\")>,\n",
       " <selenium.webdriver.remote.webelement.WebElement (session=\"826df6485bc4a805c08bf5ccc6b3b5f3\", element=\"eda0651a-c9a6-4efa-bbe3-0dbb281b2a40\")>,\n",
       " <selenium.webdriver.remote.webelement.WebElement (session=\"826df6485bc4a805c08bf5ccc6b3b5f3\", element=\"04389694-9a33-4fd8-a904-9581ba054872\")>,\n",
       " <selenium.webdriver.remote.webelement.WebElement (session=\"826df6485bc4a805c08bf5ccc6b3b5f3\", element=\"8dee57a1-5b0e-4e76-ba39-2941ad200a03\")>,\n",
       " <selenium.webdriver.remote.webelement.WebElement (session=\"826df6485bc4a805c08bf5ccc6b3b5f3\", element=\"f0252768-5d55-4d76-afa9-b5368d856cfd\")>,\n",
       " <selenium.webdriver.remote.webelement.WebElement (session=\"826df6485bc4a805c08bf5ccc6b3b5f3\", element=\"db5ff17c-0100-443c-b424-9f9050643349\")>,\n",
       " <selenium.webdriver.remote.webelement.WebElement (session=\"826df6485bc4a805c08bf5ccc6b3b5f3\", element=\"1d7a2216-e93f-4aeb-a2f8-fc45223b94d6\")>,\n",
       " <selenium.webdriver.remote.webelement.WebElement (session=\"826df6485bc4a805c08bf5ccc6b3b5f3\", element=\"425f9018-0ce9-4d70-aabb-5eb21d0e9863\")>,\n",
       " <selenium.webdriver.remote.webelement.WebElement (session=\"826df6485bc4a805c08bf5ccc6b3b5f3\", element=\"42ac0707-774d-4a44-879f-0c06ca118ef3\")>,\n",
       " <selenium.webdriver.remote.webelement.WebElement (session=\"826df6485bc4a805c08bf5ccc6b3b5f3\", element=\"ffc37717-ba48-477a-8646-c2c3214ec5be\")>,\n",
       " <selenium.webdriver.remote.webelement.WebElement (session=\"826df6485bc4a805c08bf5ccc6b3b5f3\", element=\"75ccfe44-3a75-432b-b29d-ca5f9172a5f2\")>,\n",
       " <selenium.webdriver.remote.webelement.WebElement (session=\"826df6485bc4a805c08bf5ccc6b3b5f3\", element=\"14e2179b-5044-498d-9f47-276c57b2b736\")>,\n",
       " <selenium.webdriver.remote.webelement.WebElement (session=\"826df6485bc4a805c08bf5ccc6b3b5f3\", element=\"3a6403de-3b26-4e87-8c2a-68adfe334aef\")>,\n",
       " <selenium.webdriver.remote.webelement.WebElement (session=\"826df6485bc4a805c08bf5ccc6b3b5f3\", element=\"6c519af0-b855-408e-9515-d21737371d5c\")>,\n",
       " <selenium.webdriver.remote.webelement.WebElement (session=\"826df6485bc4a805c08bf5ccc6b3b5f3\", element=\"2f670ec7-cb43-4e5b-abbd-d06b3f59c8b2\")>,\n",
       " <selenium.webdriver.remote.webelement.WebElement (session=\"826df6485bc4a805c08bf5ccc6b3b5f3\", element=\"6d172d41-526e-4d15-bbd6-a7c210cd4ece\")>,\n",
       " <selenium.webdriver.remote.webelement.WebElement (session=\"826df6485bc4a805c08bf5ccc6b3b5f3\", element=\"5e1866d3-4230-4a31-88be-dde15cf802eb\")>,\n",
       " <selenium.webdriver.remote.webelement.WebElement (session=\"826df6485bc4a805c08bf5ccc6b3b5f3\", element=\"11d11e0d-49b6-4640-9ebc-d3f551604f27\")>,\n",
       " <selenium.webdriver.remote.webelement.WebElement (session=\"826df6485bc4a805c08bf5ccc6b3b5f3\", element=\"ca5b0ac7-cd77-45f3-ba02-6c4528e63935\")>,\n",
       " <selenium.webdriver.remote.webelement.WebElement (session=\"826df6485bc4a805c08bf5ccc6b3b5f3\", element=\"dbdd6ec4-cdcc-49ea-a162-cea876a58a2a\")>]"
      ]
     },
     "execution_count": 37,
     "metadata": {},
     "output_type": "execute_result"
    }
   ],
   "source": [
    "table = driver.find_element_by_xpath('//*[@id=\"__next\"]/div/main/div/div/article/main/div[3]/div/div[4]')\n",
    "\n",
    "players = table.find_elements_by_tag_name('tr')\n",
    "\n",
    "players"
   ]
  },
  {
   "cell_type": "markdown",
   "id": "1fde7188",
   "metadata": {},
   "source": [
    "''' We apply a function that appends each player with the year in which the award was given'''"
   ]
  },
  {
   "cell_type": "code",
   "execution_count": 38,
   "id": "fe97057f",
   "metadata": {},
   "outputs": [],
   "source": [
    "import functions as fn"
   ]
  },
  {
   "cell_type": "code",
   "execution_count": 39,
   "id": "65d0e01b",
   "metadata": {},
   "outputs": [],
   "source": [
    "players2 = transform(players)"
   ]
  },
  {
   "cell_type": "code",
   "execution_count": 50,
   "id": "b7be2739",
   "metadata": {},
   "outputs": [],
   "source": [
    "import pandas as pd\n",
    "col_names=players2[0]\n",
    "data=players2[1:]\n",
    "df2=pd.DataFrame(data, columns=col_names)"
   ]
  },
  {
   "cell_type": "code",
   "execution_count": 51,
   "id": "6e673410",
   "metadata": {},
   "outputs": [],
   "source": [
    "df2['Club']=[c.replace('Carolina Courage/Birgit Prinz', 'FFC Frankfurt') for c in df2.Club]"
   ]
  },
  {
   "cell_type": "markdown",
   "id": "e16311a5",
   "metadata": {},
   "source": [
    "'''We need another table that combines with this one and add the nationality of each player;\n",
    "in this time, we will use BeautifulSoup method'''"
   ]
  },
  {
   "cell_type": "code",
   "execution_count": 43,
   "id": "0280a107",
   "metadata": {},
   "outputs": [],
   "source": [
    "import requests as req\n",
    "\n",
    "from bs4 import BeautifulSoup as bs\n",
    "url='https://www.topendsports.com/sport/soccer/list-player-of-the-year-women.htm'\n",
    "html=req.get(url).content\n",
    "soup=bs(html, 'html.parser')"
   ]
  },
  {
   "cell_type": "code",
   "execution_count": 44,
   "id": "c3ce220e",
   "metadata": {},
   "outputs": [],
   "source": [
    "tabla=soup.find('div',{'class':'table-responsive'})\n",
    "tabla2=tabla.find('table',{'class':'list'})"
   ]
  },
  {
   "cell_type": "code",
   "execution_count": 45,
   "id": "0ac64874",
   "metadata": {},
   "outputs": [],
   "source": [
    "filas=tabla2.find_all('tr')\n",
    "filas=[f.text.strip().split('\\n') for f in filas]"
   ]
  },
  {
   "cell_type": "code",
   "execution_count": 46,
   "id": "f1d44388",
   "metadata": {},
   "outputs": [],
   "source": [
    "col_names=filas[0]\n",
    "data=filas[1:]\n",
    "df3=pd.DataFrame(data, columns=col_names)"
   ]
  },
  {
   "cell_type": "code",
   "execution_count": 47,
   "id": "418c0bdc",
   "metadata": {},
   "outputs": [],
   "source": [
    "df3 = df3.rename(str.title, axis='columns')\n",
    "df3 = df3.sort_values(by = ['Year'], ascending=True).reset_index().drop('index',axis=1)"
   ]
  },
  {
   "cell_type": "code",
   "execution_count": 48,
   "id": "63c7eb9e",
   "metadata": {},
   "outputs": [],
   "source": [
    "df3['Player']=[c.replace('Nadine Keßler', 'Nadine Kebler') for c in df3.Player]\n",
    "df3['Player'] = df3['Player'].apply(lambda x: x.strip())"
   ]
  },
  {
   "cell_type": "code",
   "execution_count": 52,
   "id": "580b7d0b",
   "metadata": {},
   "outputs": [],
   "source": [
    "df4 = pd.merge(df2,df3,how=\"inner\")"
   ]
  },
  {
   "cell_type": "code",
   "execution_count": 53,
   "id": "ba6dea29",
   "metadata": {},
   "outputs": [],
   "source": [
    "df4['Nationality']=[c.replace('USA', 'United States') for c in df4.Nationality]\n",
    "df4['Nationality']=[c.replace('The Netherlands', 'Netherlands') for c in df4.Nationality]"
   ]
  },
  {
   "cell_type": "code",
   "execution_count": null,
   "id": "9488da6d",
   "metadata": {},
   "outputs": [],
   "source": [
    "df4.to_csv('./data/players.csv', index=False)"
   ]
  }
 ],
 "metadata": {
  "kernelspec": {
   "display_name": "Python 3 (ipykernel)",
   "language": "python",
   "name": "python3"
  },
  "language_info": {
   "codemirror_mode": {
    "name": "ipython",
    "version": 3
   },
   "file_extension": ".py",
   "mimetype": "text/x-python",
   "name": "python",
   "nbconvert_exporter": "python",
   "pygments_lexer": "ipython3",
   "version": "3.9.7"
  }
 },
 "nbformat": 4,
 "nbformat_minor": 5
}
