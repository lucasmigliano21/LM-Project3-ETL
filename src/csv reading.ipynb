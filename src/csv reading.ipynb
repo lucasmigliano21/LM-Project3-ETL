{
 "cells": [
  {
   "cell_type": "code",
   "execution_count": null,
   "id": "ce94840e",
   "metadata": {},
   "outputs": [],
   "source": [
    "from src import functions as fn\n",
    "import pandas as pd"
   ]
  },
  {
   "cell_type": "code",
   "execution_count": null,
   "id": "d59ea3be",
   "metadata": {},
   "outputs": [],
   "source": [
    "results=pd.read_csv('./data/results_teams.csv')"
   ]
  },
  {
   "cell_type": "code",
   "execution_count": null,
   "id": "8e5787b1",
   "metadata": {},
   "outputs": [],
   "source": [
    "fn.column_cleaning(results)"
   ]
  },
  {
   "cell_type": "code",
   "execution_count": null,
   "id": "a1a98c5b",
   "metadata": {},
   "outputs": [],
   "source": [
    "results = fn.filter(results)"
   ]
  },
  {
   "cell_type": "code",
   "execution_count": null,
   "id": "c8810a61",
   "metadata": {},
   "outputs": [],
   "source": [
    "results = fn.winner(results)"
   ]
  },
  {
   "cell_type": "code",
   "execution_count": null,
   "id": "cfa574f5",
   "metadata": {},
   "outputs": [],
   "source": [
    "results_csv=fn.copy(results)"
   ]
  },
  {
   "cell_type": "code",
   "execution_count": null,
   "id": "7d9b405b",
   "metadata": {},
   "outputs": [],
   "source": [
    "results_csv.to_csv('./data/results.csv', index=False)"
   ]
  }
 ],
 "metadata": {
  "kernelspec": {
   "display_name": "Python 3 (ipykernel)",
   "language": "python",
   "name": "python3"
  },
  "language_info": {
   "codemirror_mode": {
    "name": "ipython",
    "version": 3
   },
   "file_extension": ".py",
   "mimetype": "text/x-python",
   "name": "python",
   "nbconvert_exporter": "python",
   "pygments_lexer": "ipython3",
   "version": "3.9.7"
  }
 },
 "nbformat": 4,
 "nbformat_minor": 5
}
