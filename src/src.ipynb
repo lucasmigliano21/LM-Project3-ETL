{
 "cells": [
  {
   "cell_type": "code",
   "execution_count": 1,
   "id": "ea7d0732",
   "metadata": {},
   "outputs": [],
   "source": [
    "def ganar(x):\n",
    "    ''' Esta función compara los goles hechos por cada equipo y devuelve el resultado '''\n",
    "   \n",
    "    if x>0:\n",
    "        return 'home'\n",
    "    \n",
    "    elif x<0:\n",
    "        return 'away'\n",
    "    \n",
    "    else:\n",
    "        return 'draw'"
   ]
  },
  {
   "cell_type": "code",
   "execution_count": 2,
   "id": "abd4d7af",
   "metadata": {},
   "outputs": [],
   "source": [
    "won = (lambda x : x['home_team'] if x['home_score'] > x['away_score'] \n",
    "                                              else (x['away_team'] if x['home_score'] < x['away_score'] else 'draw'))\n",
    "                                          "
   ]
  },
  {
   "cell_type": "code",
   "execution_count": 3,
   "id": "f60fec76",
   "metadata": {},
   "outputs": [
    {
     "ename": "SyntaxError",
     "evalue": "invalid syntax (926324581.py, line 1)",
     "output_type": "error",
     "traceback": [
      "\u001b[0;36m  File \u001b[0;32m\"/var/folders/y9/1ck368zx5tq778d5611f3syw0000gn/T/ipykernel_87157/926324581.py\"\u001b[0;36m, line \u001b[0;32m1\u001b[0m\n\u001b[0;31m    lambda x : 1 if x['winner'] == 'draw'\u001b[0m\n\u001b[0m                                         ^\u001b[0m\n\u001b[0;31mSyntaxError\u001b[0m\u001b[0;31m:\u001b[0m invalid syntax\n"
     ]
    }
   ],
   "source": [
    "lambda x : 1 if x['winner'] == 'draw'\n",
    "                                              else 3"
   ]
  },
  {
   "cell_type": "code",
   "execution_count": 10,
   "id": "b4a55f17",
   "metadata": {},
   "outputs": [],
   "source": [
    "def ganador(x):\n",
    "    ''' Esta función compara los resultados y devuelve el puntaje '''\n",
    "   \n",
    "    if df.winner == 'draw':\n",
    "        return 1\n",
    " \n",
    "    else:\n",
    "        return 3\n",
    "    \n",
    "    return ganador"
   ]
  },
  {
   "cell_type": "code",
   "execution_count": null,
   "id": "a756ecd6",
   "metadata": {},
   "outputs": [],
   "source": []
  }
 ],
 "metadata": {
  "kernelspec": {
   "display_name": "Python 3 (ipykernel)",
   "language": "python",
   "name": "python3"
  },
  "language_info": {
   "codemirror_mode": {
    "name": "ipython",
    "version": 3
   },
   "file_extension": ".py",
   "mimetype": "text/x-python",
   "name": "python",
   "nbconvert_exporter": "python",
   "pygments_lexer": "ipython3",
   "version": "3.9.7"
  }
 },
 "nbformat": 4,
 "nbformat_minor": 5
}
